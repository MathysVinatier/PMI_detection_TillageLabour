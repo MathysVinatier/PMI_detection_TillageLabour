{
 "cells": [
  {
   "cell_type": "code",
   "execution_count": 1,
   "metadata": {},
   "outputs": [],
   "source": [
    "import ee\n",
    "import geemap\n",
    "import numpy as np\n",
    "import matplotlib.pyplot as plt"
   ]
  },
  {
   "cell_type": "code",
   "execution_count": 2,
   "metadata": {},
   "outputs": [
    {
     "data": {
      "text/html": [
       "\n",
       "            <style>\n",
       "                .geemap-dark {\n",
       "                    --jp-widgets-color: white;\n",
       "                    --jp-widgets-label-color: white;\n",
       "                    --jp-ui-font-color1: white;\n",
       "                    --jp-layout-color2: #454545;\n",
       "                    background-color: #383838;\n",
       "                }\n",
       "\n",
       "                .geemap-dark .jupyter-button {\n",
       "                    --jp-layout-color3: #383838;\n",
       "                }\n",
       "\n",
       "                .geemap-colab {\n",
       "                    background-color: var(--colab-primary-surface-color, white);\n",
       "                }\n",
       "\n",
       "                .geemap-colab .jupyter-button {\n",
       "                    --jp-layout-color3: var(--colab-primary-surface-color, white);\n",
       "                }\n",
       "            </style>\n",
       "            "
      ],
      "text/plain": [
       "<IPython.core.display.HTML object>"
      ]
     },
     "metadata": {},
     "output_type": "display_data"
    },
    {
     "data": {
      "text/plain": [
       "True"
      ]
     },
     "execution_count": 2,
     "metadata": {},
     "output_type": "execute_result"
    }
   ],
   "source": [
    "ee.Authenticate()"
   ]
  },
  {
   "cell_type": "code",
   "execution_count": 3,
   "metadata": {},
   "outputs": [
    {
     "data": {
      "text/html": [
       "\n",
       "            <style>\n",
       "                .geemap-dark {\n",
       "                    --jp-widgets-color: white;\n",
       "                    --jp-widgets-label-color: white;\n",
       "                    --jp-ui-font-color1: white;\n",
       "                    --jp-layout-color2: #454545;\n",
       "                    background-color: #383838;\n",
       "                }\n",
       "\n",
       "                .geemap-dark .jupyter-button {\n",
       "                    --jp-layout-color3: #383838;\n",
       "                }\n",
       "\n",
       "                .geemap-colab {\n",
       "                    background-color: var(--colab-primary-surface-color, white);\n",
       "                }\n",
       "\n",
       "                .geemap-colab .jupyter-button {\n",
       "                    --jp-layout-color3: var(--colab-primary-surface-color, white);\n",
       "                }\n",
       "            </style>\n",
       "            "
      ],
      "text/plain": [
       "<IPython.core.display.HTML object>"
      ]
     },
     "metadata": {},
     "output_type": "display_data"
    }
   ],
   "source": [
    "ee.Initialize(project=\"ee-sentinel-analysis\")"
   ]
  },
  {
   "cell_type": "markdown",
   "metadata": {},
   "source": [
    "Collection : https://developers.google.com/earth-engine/datasets/catalog/COPERNICUS_S1_GRD"
   ]
  },
  {
   "cell_type": "markdown",
   "metadata": {},
   "source": [
    "==============================================================================================================   \n",
    "##### **SEPARATION VV / VH**  \n",
    "=============================================================================================================="
   ]
  },
  {
   "cell_type": "code",
   "execution_count": 4,
   "metadata": {},
   "outputs": [
    {
     "data": {
      "text/html": [
       "\n",
       "            <style>\n",
       "                .geemap-dark {\n",
       "                    --jp-widgets-color: white;\n",
       "                    --jp-widgets-label-color: white;\n",
       "                    --jp-ui-font-color1: white;\n",
       "                    --jp-layout-color2: #454545;\n",
       "                    background-color: #383838;\n",
       "                }\n",
       "\n",
       "                .geemap-dark .jupyter-button {\n",
       "                    --jp-layout-color3: #383838;\n",
       "                }\n",
       "\n",
       "                .geemap-colab {\n",
       "                    background-color: var(--colab-primary-surface-color, white);\n",
       "                }\n",
       "\n",
       "                .geemap-colab .jupyter-button {\n",
       "                    --jp-layout-color3: var(--colab-primary-surface-color, white);\n",
       "                }\n",
       "            </style>\n",
       "            "
      ],
      "text/plain": [
       "<IPython.core.display.HTML object>"
      ]
     },
     "metadata": {},
     "output_type": "display_data"
    },
    {
     "data": {
      "application/vnd.jupyter.widget-view+json": {
       "model_id": "02b3571bc1144318bb0ff90b282bec15",
       "version_major": 2,
       "version_minor": 0
      },
      "text/plain": [
       "Map(center=[48.49380861314277, 2.4765884604044706], controls=(WidgetControl(options=['position', 'transparent_…"
      ]
     },
     "execution_count": 4,
     "metadata": {},
     "output_type": "execute_result"
    }
   ],
   "source": [
    "# Load the Sentinel-1 ImageCollection, filter to Jun-Sep 2020 observations.\n",
    "sentinel_1 = ee.ImageCollection('COPERNICUS/S1_GRD').filterDate(\n",
    "    '2020-10-01', '2020-10-02'\n",
    ")\n",
    "\n",
    "# Filter the Sentinel-1 collection by metadata properties.\n",
    "vv_vh_iw = (\n",
    "    sentinel_1.filter(\n",
    "        # Filter to get images with VV and VH dual polarization.\n",
    "        ee.Filter.listContains('transmitterReceiverPolarisation', 'VV')\n",
    "    )\n",
    "    .filter(ee.Filter.listContains('transmitterReceiverPolarisation', 'VH'))\n",
    "    .filter(\n",
    "        # Filter to get images collected in interferometric wide swath mode.\n",
    "        ee.Filter.eq('instrumentMode', 'IW')\n",
    "    )\n",
    ")\n",
    "\n",
    "# Separate ascending and descending orbit images into distinct collections.\n",
    "vv_vh_iw_asc = vv_vh_iw.filter(\n",
    "    ee.Filter.eq('orbitProperties_pass', 'ASCENDING')\n",
    ")\n",
    "vv_vh_iw_desc = vv_vh_iw.filter(\n",
    "    ee.Filter.eq('orbitProperties_pass', 'DESCENDING')\n",
    ")\n",
    "\n",
    "# Calculate temporal means for various observations to use for visualization.\n",
    "vh_iw_asc_mean = vv_vh_iw_asc.select('VH').mean() # Mean VH ascending.\n",
    "vh_iw_desc_mean = vv_vh_iw_desc.select('VH').mean() # Mean VH descending.\n",
    "vv_iw_asc_desc_mean = vv_vh_iw_asc.merge(vv_vh_iw_desc).select('VV').mean() # Mean VV for combined ascending and descending image collections.\n",
    "vh_iw_asc_desc_mean = vv_vh_iw_asc.merge(vv_vh_iw_desc).select('VH').mean() # Mean VH for combined ascending and descending image collections.\n",
    "\n",
    "# Display the temporal means for various observations, compare them.\n",
    "m = geemap.Map()\n",
    "m.add_layer(vv_iw_asc_desc_mean, {'min': -12, 'max': -4}, 'vv_iw_asc_desc_mean')\n",
    "m.add_layer(vh_iw_asc_desc_mean, {'min': -18, 'max': -10}, 'vh_iw_asc_desc_mean')\n",
    "m.add_layer(vh_iw_asc_mean, {'min': -18, 'max': -10}, 'vh_iw_asc_mean')\n",
    "m.add_layer(vh_iw_desc_mean, {'min': -18, 'max': -10}, 'vh_iw_desc_mean')\n",
    "\n",
    "beauvais_roi = [\n",
    "    [2.470013829667166, 48.49155618695181],\n",
    "    [2.4864504065104276, 48.49155618695181],\n",
    "    [2.4864504065104276, 48.49718725242921],\n",
    "    [2.470013829667166, 48.49718725242921],\n",
    "    [2.470013829667166, 48.49155618695181]\n",
    "]\n",
    "\n",
    "# Calculate the centroid (average of lat and lon)\n",
    "centroid_lon = sum([coord[0] for coord in beauvais_roi]) / len(beauvais_roi)\n",
    "centroid_lat = sum([coord[1] for coord in beauvais_roi]) / len(beauvais_roi)\n",
    "\n",
    "# Set the map center using the calculated centroid\n",
    "m.setCenter(centroid_lon, centroid_lat, zoom=15)\n",
    "\n",
    "# Add the polygon to the map as a layer\n",
    "style = {\n",
    "    'color': 'red',           # Border color\n",
    "    'fillColor': '00000000',  # Fill color (transparent)\n",
    "    'width': 3                # Border width\n",
    "}\n",
    "polygon_roi = ee.Geometry.Polygon(beauvais_roi)\n",
    "m.addLayer(polygon_roi, style, \"Beauvais\")\n",
    "\n",
    "m"
   ]
  },
  {
   "cell_type": "code",
   "execution_count": 5,
   "metadata": {},
   "outputs": [
    {
     "data": {
      "text/html": [
       "\n",
       "            <style>\n",
       "                .geemap-dark {\n",
       "                    --jp-widgets-color: white;\n",
       "                    --jp-widgets-label-color: white;\n",
       "                    --jp-ui-font-color1: white;\n",
       "                    --jp-layout-color2: #454545;\n",
       "                    background-color: #383838;\n",
       "                }\n",
       "\n",
       "                .geemap-dark .jupyter-button {\n",
       "                    --jp-layout-color3: #383838;\n",
       "                }\n",
       "\n",
       "                .geemap-colab {\n",
       "                    background-color: var(--colab-primary-surface-color, white);\n",
       "                }\n",
       "\n",
       "                .geemap-colab .jupyter-button {\n",
       "                    --jp-layout-color3: var(--colab-primary-surface-color, white);\n",
       "                }\n",
       "            </style>\n",
       "            "
      ],
      "text/plain": [
       "<IPython.core.display.HTML object>"
      ]
     },
     "metadata": {},
     "output_type": "display_data"
    },
    {
     "data": {
      "application/vnd.jupyter.widget-view+json": {
       "model_id": "9ca7e7cb50ae44b49e18f1c169a3d628",
       "version_major": 2,
       "version_minor": 0
      },
      "text/plain": [
       "Map(center=[48.494, 2.478], controls=(WidgetControl(options=['position', 'transparent_bg'], widget=SearchDataG…"
      ]
     },
     "execution_count": 5,
     "metadata": {},
     "output_type": "execute_result"
    }
   ],
   "source": [
    "# Load the Sentinel-1 ImageCollection, filter to October 1, 2020.\n",
    "sentinel_1 = ee.ImageCollection('COPERNICUS/S1_GRD').filterDate(\n",
    "    '2020-10-01', '2020-10-02'\n",
    ")\n",
    "\n",
    "# Filter the Sentinel-1 collection by metadata properties.\n",
    "vv_vh_iw = (\n",
    "    sentinel_1.filter(ee.Filter.listContains('transmitterReceiverPolarisation', 'VV'))\n",
    "              .filter(ee.Filter.listContains('transmitterReceiverPolarisation', 'VH'))\n",
    "              .filter(ee.Filter.eq('instrumentMode', 'IW'))\n",
    ")\n",
    "\n",
    "# Separate ascending and descending orbit images into distinct collections.\n",
    "vv_vh_iw_asc = vv_vh_iw.filter(ee.Filter.eq('orbitProperties_pass', 'ASCENDING'))\n",
    "vv_vh_iw_desc = vv_vh_iw.filter(ee.Filter.eq('orbitProperties_pass', 'DESCENDING'))\n",
    "\n",
    "# Calculate temporal means for the selected date range (here, it's just one day).\n",
    "vv_image = vv_vh_iw.select('VV').mean()  # Mean VV for the day\n",
    "vh_image = vv_vh_iw.select('VH').mean()  # Mean VH for the day\n",
    "\n",
    "# Define the region of interest (Beauvais ROI).\n",
    "beauvais_roi = [\n",
    "    [2.470013829667166, 48.49155618695181],\n",
    "    [2.4864504065104276, 48.49155618695181],\n",
    "    [2.4864504065104276, 48.49718725242921],\n",
    "    [2.470013829667166, 48.49718725242921],\n",
    "    [2.470013829667166, 48.49155618695181]\n",
    "]\n",
    "polygon_roi = ee.Geometry.Polygon(beauvais_roi)\n",
    "\n",
    "# Set visualization parameters for VV and VH.\n",
    "vv_vis_params = {'min': -12, 'max': -4, 'palette': ['blue', 'white', 'green']}\n",
    "vh_vis_params = {'min': -18, 'max': -10, 'palette': ['purple', 'white', 'yellow']}\n",
    "\n",
    "# Create a geemap map.\n",
    "m = geemap.Map(center=[48.494, 2.478], zoom=15)\n",
    "m.addLayer(vv_image.clip(polygon_roi), vv_vis_params, 'VV Image')\n",
    "m.addLayer(vh_image.clip(polygon_roi), vh_vis_params, 'VH Image')\n",
    "m.addLayer(polygon_roi, {'color': 'red'}, \"Beauvais ROI\")\n",
    "m\n"
   ]
  },
  {
   "cell_type": "code",
   "execution_count": 6,
   "metadata": {},
   "outputs": [
    {
     "data": {
      "text/html": [
       "\n",
       "            <style>\n",
       "                .geemap-dark {\n",
       "                    --jp-widgets-color: white;\n",
       "                    --jp-widgets-label-color: white;\n",
       "                    --jp-ui-font-color1: white;\n",
       "                    --jp-layout-color2: #454545;\n",
       "                    background-color: #383838;\n",
       "                }\n",
       "\n",
       "                .geemap-dark .jupyter-button {\n",
       "                    --jp-layout-color3: #383838;\n",
       "                }\n",
       "\n",
       "                .geemap-colab {\n",
       "                    background-color: var(--colab-primary-surface-color, white);\n",
       "                }\n",
       "\n",
       "                .geemap-colab .jupyter-button {\n",
       "                    --jp-layout-color3: var(--colab-primary-surface-color, white);\n",
       "                }\n",
       "            </style>\n",
       "            "
      ],
      "text/plain": [
       "<IPython.core.display.HTML object>"
      ]
     },
     "metadata": {},
     "output_type": "display_data"
    },
    {
     "name": "stdout",
     "output_type": "stream",
     "text": [
      "Generating URL ...\n",
      "Downloading data from https://earthengine.googleapis.com/v1/projects/ee-sentinel-analysis/thumbnails/14e2a9926476d006dfd4f4f9f924aefc-af9710efc5121736cf72bcecd3038966:getPixels\n",
      "Please wait ...\n",
      "Data downloaded to c:\\Users\\aymer\\Documents\\AERO5\\PMI\\PMI_detection_TillageLabour\\Datasets\\vv_image.tif\n",
      "Generating URL ...\n",
      "Downloading data from https://earthengine.googleapis.com/v1/projects/ee-sentinel-analysis/thumbnails/e0233a1a7fcd8a784bc2b2f2c0457561-8553704ac0894aa7ea4df214ea065a2b:getPixels\n",
      "Please wait ...\n",
      "Data downloaded to c:\\Users\\aymer\\Documents\\AERO5\\PMI\\PMI_detection_TillageLabour\\Datasets\\vh_image.tif\n"
     ]
    }
   ],
   "source": [
    "# Export VV and VH images as TIF\n",
    "vv_tif_path = 'vv_image.tif'\n",
    "vh_tif_path = 'vh_image.tif'\n",
    "\n",
    "# Export the images as GeoTIFF files.\n",
    "geemap.ee_export_image(vv_image, filename=vv_tif_path, scale=10, region=polygon_roi)\n",
    "geemap.ee_export_image(vh_image, filename=vh_tif_path, scale=10, region=polygon_roi)\n"
   ]
  },
  {
   "cell_type": "code",
   "execution_count": 7,
   "metadata": {},
   "outputs": [
    {
     "data": {
      "text/html": [
       "\n",
       "            <style>\n",
       "                .geemap-dark {\n",
       "                    --jp-widgets-color: white;\n",
       "                    --jp-widgets-label-color: white;\n",
       "                    --jp-ui-font-color1: white;\n",
       "                    --jp-layout-color2: #454545;\n",
       "                    background-color: #383838;\n",
       "                }\n",
       "\n",
       "                .geemap-dark .jupyter-button {\n",
       "                    --jp-layout-color3: #383838;\n",
       "                }\n",
       "\n",
       "                .geemap-colab {\n",
       "                    background-color: var(--colab-primary-surface-color, white);\n",
       "                }\n",
       "\n",
       "                .geemap-colab .jupyter-button {\n",
       "                    --jp-layout-color3: var(--colab-primary-surface-color, white);\n",
       "                }\n",
       "            </style>\n",
       "            "
      ],
      "text/plain": [
       "<IPython.core.display.HTML object>"
      ]
     },
     "metadata": {},
     "output_type": "display_data"
    },
    {
     "name": "stdout",
     "output_type": "stream",
     "text": [
      "Image PNG créée avec succès.\n"
     ]
    },
    {
     "data": {
      "text/plain": [
       "<matplotlib.image.AxesImage at 0x209bb225520>"
      ]
     },
     "execution_count": 7,
     "metadata": {},
     "output_type": "execute_result"
    },
    {
     "data": {
      "image/png": "[encoded data removed]",
      "text/plain": [
       "<Figure size 432x288 with 1 Axes>"
      ]
     },
     "metadata": {
      "needs_background": "light"
     },
     "output_type": "display_data"
    }
   ],
   "source": [
    "import cv2\n",
    "\n",
    "tif_path = \"vv_image.tif\"  # Remplacez par le chemin réel de votre fichier TIFF\n",
    "\n",
    "img = cv2.imread(tif_path , cv2.IMREAD_ANYDEPTH)\n",
    "if img is None:\n",
    "    print(\"Erreur lors de la lecture de l'image.\")\n",
    "else:\n",
    "    # Normaliser l'image pour la convertir en 8 bits\n",
    "    img_min = img.min()\n",
    "    img_max = img.max()\n",
    "\n",
    "    # Évitez la division par zéro\n",
    "    if img_max > img_min:\n",
    "        img_normalized = ((img - img_min) / (img_max - img_min) * 255).astype(np.uint8)\n",
    "    else:\n",
    "        img_normalized = np.zeros(img.shape, dtype=np.uint8)  # Créez une image noire si toutes les valeurs sont identiques\n",
    "\n",
    "    # Enregistrer l'image normalisée en tant que PNG\n",
    "    cv2.imwrite('vv_image_normalized.png', img_normalized)\n",
    "\n",
    "    print(\"Image PNG créée avec succès.\")\n",
    "# Afficher l'image\n",
    "plt.imshow(img)\n",
    "\n",
    "# Enregistrer l'image en PNG si nécessaire\n",
    "# plt.savefig('output_image.png')"
   ]
  },
  {
   "cell_type": "code",
   "execution_count": 8,
   "metadata": {},
   "outputs": [
    {
     "data": {
      "text/html": [
       "\n",
       "            <style>\n",
       "                .geemap-dark {\n",
       "                    --jp-widgets-color: white;\n",
       "                    --jp-widgets-label-color: white;\n",
       "                    --jp-ui-font-color1: white;\n",
       "                    --jp-layout-color2: #454545;\n",
       "                    background-color: #383838;\n",
       "                }\n",
       "\n",
       "                .geemap-dark .jupyter-button {\n",
       "                    --jp-layout-color3: #383838;\n",
       "                }\n",
       "\n",
       "                .geemap-colab {\n",
       "                    background-color: var(--colab-primary-surface-color, white);\n",
       "                }\n",
       "\n",
       "                .geemap-colab .jupyter-button {\n",
       "                    --jp-layout-color3: var(--colab-primary-surface-color, white);\n",
       "                }\n",
       "            </style>\n",
       "            "
      ],
      "text/plain": [
       "<IPython.core.display.HTML object>"
      ]
     },
     "metadata": {},
     "output_type": "display_data"
    },
    {
     "data": {
      "image/png": "[encoded data removed]",
      "text/plain": [
       "<Figure size 432x288 with 1 Axes>"
      ]
     },
     "metadata": {
      "needs_background": "light"
     },
     "output_type": "display_data"
    }
   ],
   "source": [
    "# =========================================================\n",
    "# UTILISATION DU GETTHUMB\n",
    "# =========================================================\n",
    "\n",
    "import requests\n",
    "import ee\n",
    "import numpy as np\n",
    "import matplotlib.pyplot as plt\n",
    "from PIL import Image\n",
    "\n",
    "\n",
    "# Initialisation de Earth Engine\n",
    "ee.Initialize()\n",
    "\n",
    "# Charger l'image et la région d'intérêt\n",
    "vv_image = ee.ImageCollection('COPERNICUS/S1_GRD').filterDate('2020-10-01', '2020-10-02') \\\n",
    "    .filter(ee.Filter.listContains('transmitterReceiverPolarisation', 'VV')) \\\n",
    "    .filter(ee.Filter.eq('instrumentMode', 'IW')).select('VV').mean()\n",
    "\n",
    "polygon_roi = ee.Geometry.Polygon([\n",
    "    [2.470013829667166, 48.49155618695181],\n",
    "    [2.4864504065104276, 48.49155618695181],\n",
    "    [2.4864504065104276, 48.49718725242921],\n",
    "    [2.470013829667166, 48.49718725242921],\n",
    "    [2.470013829667166, 48.49155618695181]\n",
    "])\n",
    "\n",
    "# Télécharger les pixels en tant que tableau\n",
    "url = vv_image.clip(polygon_roi).getThumbURL({\n",
    "    'min': -20,\n",
    "    'max': -0,\n",
    "    'dimensions': 512,\n",
    "    'region': polygon_roi,\n",
    "    'format': 'png'\n",
    "})\n",
    "\n",
    "# Récupérer et sauvegarder l'image en PNG\n",
    "response = requests.get(url, stream=True)\n",
    "with open(\"vv_image.png\", 'wb') as file:\n",
    "    file.write(response.content)\n",
    "\n",
    "# Afficher l'image avec Matplotlib\n",
    "img = Image.open(\"vv_image.png\")\n",
    "img_array = np.array(img)\n",
    "\n",
    "# Afficher l'histogramme\n",
    "plt.hist(img_array.flatten(), bins=50, color='gray', alpha=0.7)\n",
    "plt.title(\"Histogramme des valeurs de pixel\")\n",
    "plt.xlabel(\"Valeurs de pixel\")\n",
    "plt.ylabel(\"Fréquence\")\n",
    "plt.show()"
   ]
  }
 ],
 "metadata": {
  "kernelspec": {
   "display_name": "Python 3",
   "language": "python",
   "name": "python3"
  },
  "language_info": {
   "codemirror_mode": {
    "name": "ipython",
    "version": 3
   },
   "file_extension": ".py",
   "mimetype": "text/x-python",
   "name": "python",
   "nbconvert_exporter": "python",
   "pygments_lexer": "ipython3",
   "version": "3.8.0"
  }
 },
 "nbformat": 4,
 "nbformat_minor": 2
}
