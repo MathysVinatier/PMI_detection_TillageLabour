{
 "cells": [
  {
   "cell_type": "code",
   "execution_count": 23,
   "metadata": {},
   "outputs": [
    {
     "data": {
      "text/html": [
       "\n",
       "            <style>\n",
       "                .geemap-dark {\n",
       "                    --jp-widgets-color: white;\n",
       "                    --jp-widgets-label-color: white;\n",
       "                    --jp-ui-font-color1: white;\n",
       "                    --jp-layout-color2: #454545;\n",
       "                    background-color: #383838;\n",
       "                }\n",
       "\n",
       "                .geemap-dark .jupyter-button {\n",
       "                    --jp-layout-color3: #383838;\n",
       "                }\n",
       "\n",
       "                .geemap-colab {\n",
       "                    background-color: var(--colab-primary-surface-color, white);\n",
       "                }\n",
       "\n",
       "                .geemap-colab .jupyter-button {\n",
       "                    --jp-layout-color3: var(--colab-primary-surface-color, white);\n",
       "                }\n",
       "            </style>\n",
       "            "
      ],
      "text/plain": [
       "<IPython.core.display.HTML object>"
      ]
     },
     "metadata": {},
     "output_type": "display_data"
    }
   ],
   "source": [
    "import ee\n",
    "import geemap\n",
    "import numpy as np\n",
    "import matplotlib.pyplot as plt\n",
    "import pandas as pd\n",
    "import datetime\n",
    "from PIL import Image"
   ]
  },
  {
   "cell_type": "code",
   "execution_count": 3,
   "metadata": {},
   "outputs": [
    {
     "data": {
      "text/html": [
       "\n",
       "            <style>\n",
       "                .geemap-dark {\n",
       "                    --jp-widgets-color: white;\n",
       "                    --jp-widgets-label-color: white;\n",
       "                    --jp-ui-font-color1: white;\n",
       "                    --jp-layout-color2: #454545;\n",
       "                    background-color: #383838;\n",
       "                }\n",
       "\n",
       "                .geemap-dark .jupyter-button {\n",
       "                    --jp-layout-color3: #383838;\n",
       "                }\n",
       "\n",
       "                .geemap-colab {\n",
       "                    background-color: var(--colab-primary-surface-color, white);\n",
       "                }\n",
       "\n",
       "                .geemap-colab .jupyter-button {\n",
       "                    --jp-layout-color3: var(--colab-primary-surface-color, white);\n",
       "                }\n",
       "            </style>\n",
       "            "
      ],
      "text/plain": [
       "<IPython.core.display.HTML object>"
      ]
     },
     "metadata": {},
     "output_type": "display_data"
    },
    {
     "data": {
      "text/html": [
       "<p>To authorize access needed by Earth Engine, open the following\n",
       "        URL in a web browser and follow the instructions:</p>\n",
       "        <p><a href=https://code.earthengine.google.com/client-auth?scopes=https%3A//www.googleapis.com/auth/earthengine%20https%3A//www.googleapis.com/auth/cloud-platform%20https%3A//www.googleapis.com/auth/devstorage.full_control&request_id=XYxAzIV6CCp5xwiyV6yM9ThrH6vlj9J1XurODNt6oXE&tc=Vn6w8bJD2awUJTcccnAgPg6p9kyRWZpz4ntemk_ZS_w&cc=Yx-sAVhLbsAP_1KWYSf2uTJWmgv_S5sYQzvTlxtU9Z8>https://code.earthengine.google.com/client-auth?scopes=https%3A//www.googleapis.com/auth/earthengine%20https%3A//www.googleapis.com/auth/cloud-platform%20https%3A//www.googleapis.com/auth/devstorage.full_control&request_id=XYxAzIV6CCp5xwiyV6yM9ThrH6vlj9J1XurODNt6oXE&tc=Vn6w8bJD2awUJTcccnAgPg6p9kyRWZpz4ntemk_ZS_w&cc=Yx-sAVhLbsAP_1KWYSf2uTJWmgv_S5sYQzvTlxtU9Z8</a></p>\n",
       "        <p>The authorization workflow will generate a code, which you should paste in the box below.</p>\n",
       "        "
      ],
      "text/plain": [
       "<IPython.core.display.HTML object>"
      ]
     },
     "metadata": {},
     "output_type": "display_data"
    },
    {
     "name": "stdout",
     "output_type": "stream",
     "text": [
      "\n",
      "Successfully saved authorization token.\n"
     ]
    }
   ],
   "source": [
    "ee.Authenticate()"
   ]
  },
  {
   "cell_type": "code",
   "execution_count": 4,
   "metadata": {},
   "outputs": [
    {
     "data": {
      "text/html": [
       "\n",
       "            <style>\n",
       "                .geemap-dark {\n",
       "                    --jp-widgets-color: white;\n",
       "                    --jp-widgets-label-color: white;\n",
       "                    --jp-ui-font-color1: white;\n",
       "                    --jp-layout-color2: #454545;\n",
       "                    background-color: #383838;\n",
       "                }\n",
       "\n",
       "                .geemap-dark .jupyter-button {\n",
       "                    --jp-layout-color3: #383838;\n",
       "                }\n",
       "\n",
       "                .geemap-colab {\n",
       "                    background-color: var(--colab-primary-surface-color, white);\n",
       "                }\n",
       "\n",
       "                .geemap-colab .jupyter-button {\n",
       "                    --jp-layout-color3: var(--colab-primary-surface-color, white);\n",
       "                }\n",
       "            </style>\n",
       "            "
      ],
      "text/plain": [
       "<IPython.core.display.HTML object>"
      ]
     },
     "metadata": {},
     "output_type": "display_data"
    }
   ],
   "source": [
    "ee.Initialize(project=\"ee-sentinel-analysis\")"
   ]
  },
  {
   "cell_type": "markdown",
   "metadata": {},
   "source": [
    "Collection : https://developers.google.com/earth-engine/datasets/catalog/COPERNICUS_S1_GRD"
   ]
  },
  {
   "cell_type": "code",
   "execution_count": 5,
   "metadata": {},
   "outputs": [
    {
     "data": {
      "text/html": [
       "\n",
       "            <style>\n",
       "                .geemap-dark {\n",
       "                    --jp-widgets-color: white;\n",
       "                    --jp-widgets-label-color: white;\n",
       "                    --jp-ui-font-color1: white;\n",
       "                    --jp-layout-color2: #454545;\n",
       "                    background-color: #383838;\n",
       "                }\n",
       "\n",
       "                .geemap-dark .jupyter-button {\n",
       "                    --jp-layout-color3: #383838;\n",
       "                }\n",
       "\n",
       "                .geemap-colab {\n",
       "                    background-color: var(--colab-primary-surface-color, white);\n",
       "                }\n",
       "\n",
       "                .geemap-colab .jupyter-button {\n",
       "                    --jp-layout-color3: var(--colab-primary-surface-color, white);\n",
       "                }\n",
       "            </style>\n",
       "            "
      ],
      "text/plain": [
       "<IPython.core.display.HTML object>"
      ]
     },
     "metadata": {},
     "output_type": "display_data"
    },
    {
     "data": {
      "application/vnd.jupyter.widget-view+json": {
       "model_id": "49e5f85ad245403faa02a9beda3160d7",
       "version_major": 2,
       "version_minor": 0
      },
      "text/plain": [
       "Map(center=[48.49380861314277, 2.4765884604044706], controls=(WidgetControl(options=['position', 'transparent_…"
      ]
     },
     "execution_count": 5,
     "metadata": {},
     "output_type": "execute_result"
    }
   ],
   "source": [
    "# Load the Sentinel-1 ImageCollection, filter to Jun-Sep 2020 observations.\n",
    "sentinel_1 = ee.ImageCollection('COPERNICUS/S1_GRD').filterDate(\n",
    "    '2020-06-01', '2020-10-01'\n",
    ")\n",
    "\n",
    "# Filter the Sentinel-1 collection by metadata properties.\n",
    "vv_vh_iw = (\n",
    "    sentinel_1.filter(\n",
    "        # Filter to get images with VV and VH dual polarization.\n",
    "        ee.Filter.listContains('transmitterReceiverPolarisation', 'VV')\n",
    "    )\n",
    "    .filter(ee.Filter.listContains('transmitterReceiverPolarisation', 'VH'))\n",
    "    .filter(\n",
    "        # Filter to get images collected in interferometric wide swath mode.\n",
    "        ee.Filter.eq('instrumentMode', 'IW')\n",
    "    )\n",
    ")\n",
    "\n",
    "# Separate ascending and descending orbit images into distinct collections.\n",
    "vv_vh_iw_asc = vv_vh_iw.filter(\n",
    "    ee.Filter.eq('orbitProperties_pass', 'ASCENDING')\n",
    ")\n",
    "vv_vh_iw_desc = vv_vh_iw.filter(\n",
    "    ee.Filter.eq('orbitProperties_pass', 'DESCENDING')\n",
    ")\n",
    "\n",
    "# Calculate temporal means for various observations to use for visualization.\n",
    "# Mean VH ascending.\n",
    "vh_iw_asc_mean = vv_vh_iw_asc.select('VH').mean()\n",
    "# Mean VH descending.\n",
    "vh_iw_desc_mean = vv_vh_iw_desc.select('VH').mean()\n",
    "# Mean VV for combined ascending and descending image collections.\n",
    "vv_iw_asc_desc_mean = vv_vh_iw_asc.merge(vv_vh_iw_desc).select('VV').mean()\n",
    "# Mean VH for combined ascending and descending image collections.\n",
    "vh_iw_asc_desc_mean = vv_vh_iw_asc.merge(vv_vh_iw_desc).select('VH').mean()\n",
    "\n",
    "# Display the temporal means for various observations, compare them.\n",
    "m = geemap.Map()\n",
    "m.add_layer(vv_iw_asc_desc_mean, {'min': -12, 'max': -4}, 'vv_iw_asc_desc_mean')\n",
    "m.add_layer(vh_iw_asc_desc_mean, {'min': -18, 'max': -10}, 'vh_iw_asc_desc_mean')\n",
    "m.add_layer(vh_iw_asc_mean, {'min': -18, 'max': -10}, 'vh_iw_asc_mean')\n",
    "m.add_layer(vh_iw_desc_mean, {'min': -18, 'max': -10}, 'vh_iw_desc_mean')\n",
    "\n",
    "beauvais_roi = [\n",
    "    [2.470013829667166, 48.49155618695181],\n",
    "    [2.4864504065104276, 48.49155618695181],\n",
    "    [2.4864504065104276, 48.49718725242921],\n",
    "    [2.470013829667166, 48.49718725242921],\n",
    "    [2.470013829667166, 48.49155618695181]\n",
    "]\n",
    "\n",
    "# Calculate the centroid (average of lat and lon)\n",
    "centroid_lon = sum([coord[0] for coord in beauvais_roi]) / len(beauvais_roi)\n",
    "centroid_lat = sum([coord[1] for coord in beauvais_roi]) / len(beauvais_roi)\n",
    "\n",
    "# Set the map center using the calculated centroid\n",
    "m.setCenter(centroid_lon, centroid_lat, zoom=15)\n",
    "\n",
    "# Add the polygon to the map as a layer\n",
    "style = {\n",
    "    'color': 'red',      # Border color\n",
    "    'fillColor': '00000000',  # Fill color (transparent)\n",
    "    'width': 3           # Border width\n",
    "}\n",
    "polygon_roi = ee.Geometry.Polygon(beauvais_roi)\n",
    "m.addLayer(polygon_roi, style, \"Beauvais\")\n",
    "\n",
    "m"
   ]
  },
  {
   "cell_type": "code",
   "execution_count": 6,
   "metadata": {},
   "outputs": [
    {
     "data": {
      "text/html": [
       "\n",
       "            <style>\n",
       "                .geemap-dark {\n",
       "                    --jp-widgets-color: white;\n",
       "                    --jp-widgets-label-color: white;\n",
       "                    --jp-ui-font-color1: white;\n",
       "                    --jp-layout-color2: #454545;\n",
       "                    background-color: #383838;\n",
       "                }\n",
       "\n",
       "                .geemap-dark .jupyter-button {\n",
       "                    --jp-layout-color3: #383838;\n",
       "                }\n",
       "\n",
       "                .geemap-colab {\n",
       "                    background-color: var(--colab-primary-surface-color, white);\n",
       "                }\n",
       "\n",
       "                .geemap-colab .jupyter-button {\n",
       "                    --jp-layout-color3: var(--colab-primary-surface-color, white);\n",
       "                }\n",
       "            </style>\n",
       "            "
      ],
      "text/plain": [
       "<IPython.core.display.HTML object>"
      ]
     },
     "metadata": {},
     "output_type": "display_data"
    }
   ],
   "source": [
    "vv_vh_iw_millis = vv_vh_iw.aggregate_array(\"system:time_start\").getInfo()\n",
    "\n",
    "vv_vh_iw_timestamp = [datetime.datetime.fromtimestamp(x // 1000).strftime('%Y-%m-%d') for x in vv_vh_iw_millis]"
   ]
  },
  {
   "cell_type": "code",
   "execution_count": 16,
   "metadata": {},
   "outputs": [
    {
     "data": {
      "text/html": [
       "\n",
       "            <style>\n",
       "                .geemap-dark {\n",
       "                    --jp-widgets-color: white;\n",
       "                    --jp-widgets-label-color: white;\n",
       "                    --jp-ui-font-color1: white;\n",
       "                    --jp-layout-color2: #454545;\n",
       "                    background-color: #383838;\n",
       "                }\n",
       "\n",
       "                .geemap-dark .jupyter-button {\n",
       "                    --jp-layout-color3: #383838;\n",
       "                }\n",
       "\n",
       "                .geemap-colab {\n",
       "                    background-color: var(--colab-primary-surface-color, white);\n",
       "                }\n",
       "\n",
       "                .geemap-colab .jupyter-button {\n",
       "                    --jp-layout-color3: var(--colab-primary-surface-color, white);\n",
       "                }\n",
       "            </style>\n",
       "            "
      ],
      "text/plain": [
       "<IPython.core.display.HTML object>"
      ]
     },
     "metadata": {},
     "output_type": "display_data"
    }
   ],
   "source": [
    "vv_vh_iw_timestamp = pd.Series(vv_vh_iw_timestamp).unique()\n",
    "\n",
    "vv_vh_iw.filterDate(vv_vh_iw_timestamp[0]).mean()\n",
    "test_export = vv_vh_iw.filterDate(vv_vh_iw_timestamp[0], vv_vh_iw_timestamp[1]).mean()\n",
    "\n",
    "image_bands = test_export.select([\"VV\", \"VH\"])\n",
    "sampled_image = image_bands.sample(region=polygon_roi, scale=30, numPixels=5000)"
   ]
  },
  {
   "cell_type": "code",
   "execution_count": 19,
   "metadata": {},
   "outputs": [
    {
     "data": {
      "text/html": [
       "\n",
       "            <style>\n",
       "                .geemap-dark {\n",
       "                    --jp-widgets-color: white;\n",
       "                    --jp-widgets-label-color: white;\n",
       "                    --jp-ui-font-color1: white;\n",
       "                    --jp-layout-color2: #454545;\n",
       "                    background-color: #383838;\n",
       "                }\n",
       "\n",
       "                .geemap-dark .jupyter-button {\n",
       "                    --jp-layout-color3: #383838;\n",
       "                }\n",
       "\n",
       "                .geemap-colab {\n",
       "                    background-color: var(--colab-primary-surface-color, white);\n",
       "                }\n",
       "\n",
       "                .geemap-colab .jupyter-button {\n",
       "                    --jp-layout-color3: var(--colab-primary-surface-color, white);\n",
       "                }\n",
       "            </style>\n",
       "            "
      ],
      "text/plain": [
       "<IPython.core.display.HTML object>"
      ]
     },
     "metadata": {},
     "output_type": "display_data"
    },
    {
     "ename": "TypeError",
     "evalue": "'FeatureCollection' object is not subscriptable",
     "output_type": "error",
     "traceback": [
      "\u001b[1;31m---------------------------------------------------------------------------\u001b[0m",
      "\u001b[1;31mTypeError\u001b[0m                                 Traceback (most recent call last)",
      "Input \u001b[1;32mIn [19]\u001b[0m, in \u001b[0;36m<cell line: 1>\u001b[1;34m()\u001b[0m\n\u001b[1;32m----> 1\u001b[0m pixels \u001b[38;5;241m=\u001b[39m np\u001b[38;5;241m.\u001b[39marray([feature[\u001b[38;5;124m'\u001b[39m\u001b[38;5;124mproperties\u001b[39m\u001b[38;5;124m'\u001b[39m] \u001b[38;5;28;01mfor\u001b[39;00m feature \u001b[38;5;129;01min\u001b[39;00m \u001b[43msampled_image\u001b[49m\u001b[43m[\u001b[49m\u001b[38;5;124;43m'\u001b[39;49m\u001b[38;5;124;43mfeatures\u001b[39;49m\u001b[38;5;124;43m'\u001b[39;49m\u001b[43m]\u001b[49m])\n\u001b[0;32m      3\u001b[0m vv_band \u001b[38;5;241m=\u001b[39m np\u001b[38;5;241m.\u001b[39marray([v[\u001b[38;5;124m'\u001b[39m\u001b[38;5;124mVV\u001b[39m\u001b[38;5;124m'\u001b[39m] \u001b[38;5;28;01mfor\u001b[39;00m v \u001b[38;5;129;01min\u001b[39;00m pixels])\n\u001b[0;32m      4\u001b[0m vh_band \u001b[38;5;241m=\u001b[39m np\u001b[38;5;241m.\u001b[39marray([v[\u001b[38;5;124m'\u001b[39m\u001b[38;5;124mVH\u001b[39m\u001b[38;5;124m'\u001b[39m] \u001b[38;5;28;01mfor\u001b[39;00m v \u001b[38;5;129;01min\u001b[39;00m pixels])\n",
      "\u001b[1;31mTypeError\u001b[0m: 'FeatureCollection' object is not subscriptable"
     ]
    }
   ],
   "source": [
    "pixels = np.array([feature['properties'] for feature in sampled_image['features']])\n",
    "\n",
    "vv_band = np.array([v['VV'] for v in pixels])\n",
    "vh_band = np.array([v['VH'] for v in pixels])"
   ]
  },
  {
   "cell_type": "code",
   "execution_count": null,
   "metadata": {},
   "outputs": [],
   "source": [
    "task = ee.batch.Export.image.toDrive(\n",
    "    image=image_bands,\n",
    "    description='image_export_crstransform',\n",
    "    folder='.',\n",
    "    region=polygon_roi,\n",
    "    crsTransform=[30, 0, -2493045, 0, -30, 3310005],\n",
    "    crs='EPSG:5070'\n",
    ")\n",
    "task.start()\n"
   ]
  },
  {
   "cell_type": "markdown",
   "metadata": {},
   "source": [
    "==============================================================================================================   \n",
    "##### **SEPARATION VV / VH**  \n",
    "=============================================================================================================="
   ]
  },
  {
   "cell_type": "code",
   "execution_count": 18,
   "metadata": {},
   "outputs": [
    {
     "data": {
      "text/html": [
       "\n",
       "            <style>\n",
       "                .geemap-dark {\n",
       "                    --jp-widgets-color: white;\n",
       "                    --jp-widgets-label-color: white;\n",
       "                    --jp-ui-font-color1: white;\n",
       "                    --jp-layout-color2: #454545;\n",
       "                    background-color: #383838;\n",
       "                }\n",
       "\n",
       "                .geemap-dark .jupyter-button {\n",
       "                    --jp-layout-color3: #383838;\n",
       "                }\n",
       "\n",
       "                .geemap-colab {\n",
       "                    background-color: var(--colab-primary-surface-color, white);\n",
       "                }\n",
       "\n",
       "                .geemap-colab .jupyter-button {\n",
       "                    --jp-layout-color3: var(--colab-primary-surface-color, white);\n",
       "                }\n",
       "            </style>\n",
       "            "
      ],
      "text/plain": [
       "<IPython.core.display.HTML object>"
      ]
     },
     "metadata": {},
     "output_type": "display_data"
    },
    {
     "data": {
      "application/vnd.jupyter.widget-view+json": {
       "model_id": "d5e18272f80e4c8a9a191ae318ece73b",
       "version_major": 2,
       "version_minor": 0
      },
      "text/plain": [
       "Map(center=[48.49380861314277, 2.4765884604044706], controls=(WidgetControl(options=['position', 'transparent_…"
      ]
     },
     "execution_count": 18,
     "metadata": {},
     "output_type": "execute_result"
    }
   ],
   "source": [
    "# Load the Sentinel-1 ImageCollection, filter to Jun-Sep 2020 observations.\n",
    "sentinel_1 = ee.ImageCollection('COPERNICUS/S1_GRD').filterDate(\n",
    "    '2020-10-01', '2020-10-02'\n",
    ")\n",
    "\n",
    "# Filter the Sentinel-1 collection by metadata properties.\n",
    "vv_vh_iw = (\n",
    "    sentinel_1.filter(\n",
    "        # Filter to get images with VV and VH dual polarization.\n",
    "        ee.Filter.listContains('transmitterReceiverPolarisation', 'VV')\n",
    "    )\n",
    "    .filter(ee.Filter.listContains('transmitterReceiverPolarisation', 'VH'))\n",
    "    .filter(\n",
    "        # Filter to get images collected in interferometric wide swath mode.\n",
    "        ee.Filter.eq('instrumentMode', 'IW')\n",
    "    )\n",
    ")\n",
    "\n",
    "# Separate ascending and descending orbit images into distinct collections.\n",
    "vv_vh_iw_asc = vv_vh_iw.filter(\n",
    "    ee.Filter.eq('orbitProperties_pass', 'ASCENDING')\n",
    ")\n",
    "vv_vh_iw_desc = vv_vh_iw.filter(\n",
    "    ee.Filter.eq('orbitProperties_pass', 'DESCENDING')\n",
    ")\n",
    "\n",
    "# Calculate temporal means for various observations to use for visualization.\n",
    "vh_iw_asc_mean = vv_vh_iw_asc.select('VH').mean() # Mean VH ascending.\n",
    "vh_iw_desc_mean = vv_vh_iw_desc.select('VH').mean() # Mean VH descending.\n",
    "vv_iw_asc_desc_mean = vv_vh_iw_asc.merge(vv_vh_iw_desc).select('VV').mean() # Mean VV for combined ascending and descending image collections.\n",
    "vh_iw_asc_desc_mean = vv_vh_iw_asc.merge(vv_vh_iw_desc).select('VH').mean() # Mean VH for combined ascending and descending image collections.\n",
    "\n",
    "# Display the temporal means for various observations, compare them.\n",
    "m = geemap.Map()\n",
    "m.add_layer(vv_iw_asc_desc_mean, {'min': -12, 'max': -4}, 'vv_iw_asc_desc_mean')\n",
    "m.add_layer(vh_iw_asc_desc_mean, {'min': -18, 'max': -10}, 'vh_iw_asc_desc_mean')\n",
    "m.add_layer(vh_iw_asc_mean, {'min': -18, 'max': -10}, 'vh_iw_asc_mean')\n",
    "m.add_layer(vh_iw_desc_mean, {'min': -18, 'max': -10}, 'vh_iw_desc_mean')\n",
    "\n",
    "beauvais_roi = [\n",
    "    [2.470013829667166, 48.49155618695181],\n",
    "    [2.4864504065104276, 48.49155618695181],\n",
    "    [2.4864504065104276, 48.49718725242921],\n",
    "    [2.470013829667166, 48.49718725242921],\n",
    "    [2.470013829667166, 48.49155618695181]\n",
    "]\n",
    "\n",
    "# Calculate the centroid (average of lat and lon)\n",
    "centroid_lon = sum([coord[0] for coord in beauvais_roi]) / len(beauvais_roi)\n",
    "centroid_lat = sum([coord[1] for coord in beauvais_roi]) / len(beauvais_roi)\n",
    "\n",
    "# Set the map center using the calculated centroid\n",
    "m.setCenter(centroid_lon, centroid_lat, zoom=15)\n",
    "\n",
    "# Add the polygon to the map as a layer\n",
    "style = {\n",
    "    'color': 'red',           # Border color\n",
    "    'fillColor': '00000000',  # Fill color (transparent)\n",
    "    'width': 3                # Border width\n",
    "}\n",
    "polygon_roi = ee.Geometry.Polygon(beauvais_roi)\n",
    "m.addLayer(polygon_roi, style, \"Beauvais\")\n",
    "\n",
    "m"
   ]
  },
  {
   "cell_type": "code",
   "execution_count": 27,
   "metadata": {},
   "outputs": [
    {
     "data": {
      "text/html": [
       "\n",
       "            <style>\n",
       "                .geemap-dark {\n",
       "                    --jp-widgets-color: white;\n",
       "                    --jp-widgets-label-color: white;\n",
       "                    --jp-ui-font-color1: white;\n",
       "                    --jp-layout-color2: #454545;\n",
       "                    background-color: #383838;\n",
       "                }\n",
       "\n",
       "                .geemap-dark .jupyter-button {\n",
       "                    --jp-layout-color3: #383838;\n",
       "                }\n",
       "\n",
       "                .geemap-colab {\n",
       "                    background-color: var(--colab-primary-surface-color, white);\n",
       "                }\n",
       "\n",
       "                .geemap-colab .jupyter-button {\n",
       "                    --jp-layout-color3: var(--colab-primary-surface-color, white);\n",
       "                }\n",
       "            </style>\n",
       "            "
      ],
      "text/plain": [
       "<IPython.core.display.HTML object>"
      ]
     },
     "metadata": {},
     "output_type": "display_data"
    },
    {
     "data": {
      "application/vnd.jupyter.widget-view+json": {
       "model_id": "c849a6c909db4f6bbd4665592abeed4c",
       "version_major": 2,
       "version_minor": 0
      },
      "text/plain": [
       "Map(center=[48.494, 2.478], controls=(WidgetControl(options=['position', 'transparent_bg'], widget=SearchDataG…"
      ]
     },
     "execution_count": 27,
     "metadata": {},
     "output_type": "execute_result"
    }
   ],
   "source": [
    "# Load the Sentinel-1 ImageCollection, filter to October 1, 2020.\n",
    "sentinel_1 = ee.ImageCollection('COPERNICUS/S1_GRD').filterDate(\n",
    "    '2020-10-01', '2020-10-02'\n",
    ")\n",
    "\n",
    "# Filter the Sentinel-1 collection by metadata properties.\n",
    "vv_vh_iw = (\n",
    "    sentinel_1.filter(ee.Filter.listContains('transmitterReceiverPolarisation', 'VV'))\n",
    "    .filter(ee.Filter.listContains('transmitterReceiverPolarisation', 'VH'))\n",
    "    .filter(ee.Filter.eq('instrumentMode', 'IW'))\n",
    ")\n",
    "\n",
    "# Separate ascending and descending orbit images into distinct collections.\n",
    "vv_vh_iw_asc = vv_vh_iw.filter(ee.Filter.eq('orbitProperties_pass', 'ASCENDING'))\n",
    "vv_vh_iw_desc = vv_vh_iw.filter(ee.Filter.eq('orbitProperties_pass', 'DESCENDING'))\n",
    "\n",
    "# Calculate temporal means for the selected date range (here, it's just one day).\n",
    "vv_image = vv_vh_iw.select('VV').mean()  # Mean VV for the day\n",
    "vh_image = vv_vh_iw.select('VH').mean()  # Mean VH for the day\n",
    "\n",
    "# Define the region of interest (Beauvais ROI).\n",
    "beauvais_roi = [\n",
    "    [2.470013829667166, 48.49155618695181],\n",
    "    [2.4864504065104276, 48.49155618695181],\n",
    "    [2.4864504065104276, 48.49718725242921],\n",
    "    [2.470013829667166, 48.49718725242921],\n",
    "    [2.470013829667166, 48.49155618695181]\n",
    "]\n",
    "polygon_roi = ee.Geometry.Polygon(beauvais_roi)\n",
    "\n",
    "# Set visualization parameters for VV and VH.\n",
    "vv_vis_params = {'min': -12, 'max': -4, 'palette': ['blue', 'white', 'green']}\n",
    "vh_vis_params = {'min': -18, 'max': -10, 'palette': ['purple', 'white', 'yellow']}\n",
    "\n",
    "# Create a geemap map.\n",
    "m = geemap.Map(center=[48.494, 2.478], zoom=15)\n",
    "m.addLayer(vv_image.clip(polygon_roi), vv_vis_params, 'VV Image')\n",
    "m.addLayer(vh_image.clip(polygon_roi), vh_vis_params, 'VH Image')\n",
    "m.addLayer(polygon_roi, {'color': 'red'}, \"Beauvais ROI\")\n",
    "m\n"
   ]
  },
  {
   "cell_type": "code",
   "execution_count": 29,
   "metadata": {},
   "outputs": [
    {
     "data": {
      "text/html": [
       "\n",
       "            <style>\n",
       "                .geemap-dark {\n",
       "                    --jp-widgets-color: white;\n",
       "                    --jp-widgets-label-color: white;\n",
       "                    --jp-ui-font-color1: white;\n",
       "                    --jp-layout-color2: #454545;\n",
       "                    background-color: #383838;\n",
       "                }\n",
       "\n",
       "                .geemap-dark .jupyter-button {\n",
       "                    --jp-layout-color3: #383838;\n",
       "                }\n",
       "\n",
       "                .geemap-colab {\n",
       "                    background-color: var(--colab-primary-surface-color, white);\n",
       "                }\n",
       "\n",
       "                .geemap-colab .jupyter-button {\n",
       "                    --jp-layout-color3: var(--colab-primary-surface-color, white);\n",
       "                }\n",
       "            </style>\n",
       "            "
      ],
      "text/plain": [
       "<IPython.core.display.HTML object>"
      ]
     },
     "metadata": {},
     "output_type": "display_data"
    },
    {
     "ename": "EEException",
     "evalue": "Request had insufficient authentication scopes.",
     "output_type": "error",
     "traceback": [
      "\u001b[1;31m---------------------------------------------------------------------------\u001b[0m",
      "\u001b[1;31mHttpError\u001b[0m                                 Traceback (most recent call last)",
      "File \u001b[1;32m~\\AppData\\Roaming\\Python\\Python38\\site-packages\\ee\\data.py:402\u001b[0m, in \u001b[0;36m_execute_cloud_call\u001b[1;34m(call, num_retries)\u001b[0m\n\u001b[0;32m    388\u001b[0m \u001b[38;5;28;01mdef\u001b[39;00m \u001b[38;5;21m_execute_cloud_call\u001b[39m(\n\u001b[0;32m    389\u001b[0m     call: googleapiclient\u001b[38;5;241m.\u001b[39mhttp\u001b[38;5;241m.\u001b[39mHttpRequest, num_retries: Optional[\u001b[38;5;28mint\u001b[39m] \u001b[38;5;241m=\u001b[39m \u001b[38;5;28;01mNone\u001b[39;00m\n\u001b[0;32m    390\u001b[0m ) \u001b[38;5;241m-\u001b[39m\u001b[38;5;241m>\u001b[39m Any:\n\u001b[0;32m    391\u001b[0m   \u001b[38;5;124;03m\"\"\"Executes a Cloud API call and translates errors to EEExceptions.\u001b[39;00m\n\u001b[0;32m    392\u001b[0m \n\u001b[0;32m    393\u001b[0m \u001b[38;5;124;03m  Args:\u001b[39;00m\n\u001b[0;32m    394\u001b[0m \u001b[38;5;124;03m    call: The Cloud API call, with all parameters set, ready to have execute()\u001b[39;00m\n\u001b[0;32m    395\u001b[0m \u001b[38;5;124;03m      called on it.\u001b[39;00m\n\u001b[0;32m    396\u001b[0m \u001b[38;5;124;03m    num_retries: How many times retryable failures should be retried.\u001b[39;00m\n\u001b[0;32m    397\u001b[0m \n\u001b[0;32m    398\u001b[0m \u001b[38;5;124;03m  Returns:\u001b[39;00m\n\u001b[0;32m    399\u001b[0m \u001b[38;5;124;03m    The value returned by executing that call.\u001b[39;00m\n\u001b[0;32m    400\u001b[0m \n\u001b[0;32m    401\u001b[0m \u001b[38;5;124;03m  Raises:\u001b[39;00m\n\u001b[1;32m--> 402\u001b[0m \u001b[38;5;124;03m    EEException if the call fails.\u001b[39;00m\n\u001b[0;32m    403\u001b[0m \u001b[38;5;124;03m  \"\"\"\u001b[39;00m\n\u001b[0;32m    404\u001b[0m   num_retries \u001b[38;5;241m=\u001b[39m _max_retries \u001b[38;5;28;01mif\u001b[39;00m num_retries \u001b[38;5;129;01mis\u001b[39;00m \u001b[38;5;28;01mNone\u001b[39;00m \u001b[38;5;28;01melse\u001b[39;00m num_retries\n",
      "File \u001b[1;32m~\\AppData\\Roaming\\Python\\Python38\\site-packages\\googleapiclient\\_helpers.py:130\u001b[0m, in \u001b[0;36mpositional.<locals>.positional_decorator.<locals>.positional_wrapper\u001b[1;34m(*args, **kwargs)\u001b[0m\n\u001b[0;32m    129\u001b[0m         logger\u001b[38;5;241m.\u001b[39mwarning(message)\n\u001b[1;32m--> 130\u001b[0m \u001b[38;5;28;01mreturn\u001b[39;00m \u001b[43mwrapped\u001b[49m\u001b[43m(\u001b[49m\u001b[38;5;241;43m*\u001b[39;49m\u001b[43margs\u001b[49m\u001b[43m,\u001b[49m\u001b[43m \u001b[49m\u001b[38;5;241;43m*\u001b[39;49m\u001b[38;5;241;43m*\u001b[39;49m\u001b[43mkwargs\u001b[49m\u001b[43m)\u001b[49m\n",
      "File \u001b[1;32m~\\AppData\\Roaming\\Python\\Python38\\site-packages\\googleapiclient\\http.py:938\u001b[0m, in \u001b[0;36mHttpRequest.execute\u001b[1;34m(self, http, num_retries)\u001b[0m\n\u001b[0;32m    937\u001b[0m \u001b[38;5;28;01mif\u001b[39;00m resp\u001b[38;5;241m.\u001b[39mstatus \u001b[38;5;241m>\u001b[39m\u001b[38;5;241m=\u001b[39m \u001b[38;5;241m300\u001b[39m:\n\u001b[1;32m--> 938\u001b[0m     \u001b[38;5;28;01mraise\u001b[39;00m HttpError(resp, content, uri\u001b[38;5;241m=\u001b[39m\u001b[38;5;28mself\u001b[39m\u001b[38;5;241m.\u001b[39muri)\n\u001b[0;32m    939\u001b[0m \u001b[38;5;28;01mreturn\u001b[39;00m \u001b[38;5;28mself\u001b[39m\u001b[38;5;241m.\u001b[39mpostproc(resp, content)\n",
      "\u001b[1;31mHttpError\u001b[0m: <HttpError 403 when requesting https://earthengine.googleapis.com/v1/projects/ee-sentinel-analysis/image:export?alt=json returned \"Request had insufficient authentication scopes.\". Details: \"[{'@type': 'type.googleapis.com/google.rpc.ErrorInfo', 'reason': 'ACCESS_TOKEN_SCOPE_INSUFFICIENT', 'domain': 'googleapis.com', 'metadata': {'service': 'earthengine.googleapis.com', 'method': 'google.earthengine.v1.EarthEngine.ExportImage'}}]\">",
      "\nDuring handling of the above exception, another exception occurred:\n",
      "\u001b[1;31mEEException\u001b[0m                               Traceback (most recent call last)",
      "Input \u001b[1;32mIn [29]\u001b[0m, in \u001b[0;36m<cell line: 11>\u001b[1;34m()\u001b[0m\n\u001b[0;32m      1\u001b[0m projection \u001b[38;5;241m=\u001b[39m vv_image\u001b[38;5;241m.\u001b[39mprojection()\u001b[38;5;241m.\u001b[39mgetInfo()\n\u001b[0;32m      3\u001b[0m task \u001b[38;5;241m=\u001b[39m ee\u001b[38;5;241m.\u001b[39mbatch\u001b[38;5;241m.\u001b[39mExport\u001b[38;5;241m.\u001b[39mimage\u001b[38;5;241m.\u001b[39mtoDrive(\n\u001b[0;32m      4\u001b[0m     image\u001b[38;5;241m=\u001b[39mvv_image\u001b[38;5;241m.\u001b[39mclip(polygon_roi),\n\u001b[0;32m      5\u001b[0m     description\u001b[38;5;241m=\u001b[39m\u001b[38;5;124m'\u001b[39m\u001b[38;5;124mimage_export_crstransform\u001b[39m\u001b[38;5;124m'\u001b[39m,\n\u001b[1;32m   (...)\u001b[0m\n\u001b[0;32m      9\u001b[0m     crs\u001b[38;5;241m=\u001b[39mprojection[\u001b[38;5;124m'\u001b[39m\u001b[38;5;124mcrs\u001b[39m\u001b[38;5;124m'\u001b[39m]\n\u001b[0;32m     10\u001b[0m )\n\u001b[1;32m---> 11\u001b[0m \u001b[43mtask\u001b[49m\u001b[38;5;241;43m.\u001b[39;49m\u001b[43mstart\u001b[49m\u001b[43m(\u001b[49m\u001b[43m)\u001b[49m\n",
      "File \u001b[1;32m~\\AppData\\Roaming\\Python\\Python38\\site-packages\\ee\\batch.py:125\u001b[0m, in \u001b[0;36mstart\u001b[1;34m(self)\u001b[0m\n\u001b[0;32m    123\u001b[0m \u001b[38;5;129m@property\u001b[39m\n\u001b[0;32m    124\u001b[0m \u001b[38;5;28;01mdef\u001b[39;00m \u001b[38;5;21moperation_name\u001b[39m(\u001b[38;5;28mself\u001b[39m) \u001b[38;5;241m-\u001b[39m\u001b[38;5;241m>\u001b[39m Optional[\u001b[38;5;28mstr\u001b[39m]:\n\u001b[1;32m--> 125\u001b[0m   \u001b[38;5;28;01mif\u001b[39;00m \u001b[38;5;28mself\u001b[39m\u001b[38;5;241m.\u001b[39mname:\n\u001b[0;32m    126\u001b[0m     \u001b[38;5;28;01mreturn\u001b[39;00m \u001b[38;5;28mself\u001b[39m\u001b[38;5;241m.\u001b[39mname\n\u001b[0;32m    127\u001b[0m   \u001b[38;5;28;01mif\u001b[39;00m \u001b[38;5;28mself\u001b[39m\u001b[38;5;241m.\u001b[39mid:\n",
      "File \u001b[1;32m~\\AppData\\Roaming\\Python\\Python38\\site-packages\\ee\\data.py:1720\u001b[0m, in \u001b[0;36mexportImage\u001b[1;34m(request_id, params)\u001b[0m\n\u001b[0;32m   1714\u001b[0m \u001b[38;5;28;01mdef\u001b[39;00m \u001b[38;5;21mgetOperation\u001b[39m(operation_name: \u001b[38;5;28mstr\u001b[39m) \u001b[38;5;241m-\u001b[39m\u001b[38;5;241m>\u001b[39m Any:\n\u001b[0;32m   1715\u001b[0m   \u001b[38;5;124;03m\"\"\"Retrieves the status of a long-running operation.\u001b[39;00m\n\u001b[0;32m   1716\u001b[0m \n\u001b[0;32m   1717\u001b[0m \u001b[38;5;124;03m  Args:\u001b[39;00m\n\u001b[0;32m   1718\u001b[0m \u001b[38;5;124;03m    operation_name: The name of the operation to retrieve, in the format\u001b[39;00m\n\u001b[0;32m   1719\u001b[0m \u001b[38;5;124;03m      operations/AAAABBBBCCCCDDDDEEEEFFFF.\u001b[39;00m\n\u001b[1;32m-> 1720\u001b[0m \n\u001b[0;32m   1721\u001b[0m \u001b[38;5;124;03m  Returns:\u001b[39;00m\n\u001b[0;32m   1722\u001b[0m \u001b[38;5;124;03m    An Operation status dictionary for the requested operation.\u001b[39;00m\n\u001b[0;32m   1723\u001b[0m \u001b[38;5;124;03m  \"\"\"\u001b[39;00m\n\u001b[0;32m   1724\u001b[0m   \u001b[38;5;28;01mreturn\u001b[39;00m _execute_cloud_call(\n\u001b[0;32m   1725\u001b[0m       _get_cloud_projects()\u001b[38;5;241m.\u001b[39moperations()\u001b[38;5;241m.\u001b[39mget(name\u001b[38;5;241m=\u001b[39moperation_name)\n\u001b[0;32m   1726\u001b[0m   )\n",
      "File \u001b[1;32m~\\AppData\\Roaming\\Python\\Python38\\site-packages\\ee\\data.py:1864\u001b[0m, in \u001b[0;36m_prepare_and_run_export\u001b[1;34m(request_id, params, export_endpoint)\u001b[0m\n\u001b[0;32m   1849\u001b[0m \u001b[38;5;28;01mdef\u001b[39;00m \u001b[38;5;21mexportClassifier\u001b[39m(request_id: \u001b[38;5;28mstr\u001b[39m, params: Dict[\u001b[38;5;28mstr\u001b[39m, Any]) \u001b[38;5;241m-\u001b[39m\u001b[38;5;241m>\u001b[39m Any:\n\u001b[0;32m   1850\u001b[0m   \u001b[38;5;124;03m\"\"\"Starts a classifier export task.\u001b[39;00m\n\u001b[0;32m   1851\u001b[0m \n\u001b[0;32m   1852\u001b[0m \u001b[38;5;124;03m  This is a low-level method. The higher-level ee.batch.Export.classifier\u001b[39;00m\n\u001b[0;32m   1853\u001b[0m \u001b[38;5;124;03m  object is generally preferred for initiating classifier exports.\u001b[39;00m\n\u001b[0;32m   1854\u001b[0m \n\u001b[0;32m   1855\u001b[0m \u001b[38;5;124;03m  Args:\u001b[39;00m\n\u001b[0;32m   1856\u001b[0m \u001b[38;5;124;03m    request_id (string): A unique ID for the task, from newTaskId. If you are\u001b[39;00m\n\u001b[0;32m   1857\u001b[0m \u001b[38;5;124;03m      using the cloud API, this does not need to be from newTaskId, (though\u001b[39;00m\n\u001b[0;32m   1858\u001b[0m \u001b[38;5;124;03m      that's a good idea, as it's a good source of unique strings). It can also\u001b[39;00m\n\u001b[0;32m   1859\u001b[0m \u001b[38;5;124;03m      be empty, but in that case the request is more likely to fail as it cannot\u001b[39;00m\n\u001b[0;32m   1860\u001b[0m \u001b[38;5;124;03m      be safely retried.\u001b[39;00m\n\u001b[0;32m   1861\u001b[0m \u001b[38;5;124;03m    params: The object that describes the export task. If you are using the\u001b[39;00m\n\u001b[0;32m   1862\u001b[0m \u001b[38;5;124;03m      cloud API, this should be an ExportClassifierRequest. However, the\u001b[39;00m\n\u001b[0;32m   1863\u001b[0m \u001b[38;5;124;03m      \"expression\" parameter can be the actual Classifier to be exported, not\u001b[39;00m\n\u001b[1;32m-> 1864\u001b[0m \u001b[38;5;124;03m      its serialized form.\u001b[39;00m\n\u001b[0;32m   1865\u001b[0m \n\u001b[0;32m   1866\u001b[0m \u001b[38;5;124;03m  Returns:\u001b[39;00m\n\u001b[0;32m   1867\u001b[0m \u001b[38;5;124;03m    A dict with information about the created task.\u001b[39;00m\n\u001b[0;32m   1868\u001b[0m \u001b[38;5;124;03m    If you are using the cloud API, this will be an Operation.\u001b[39;00m\n\u001b[0;32m   1869\u001b[0m \u001b[38;5;124;03m  \"\"\"\u001b[39;00m\n\u001b[0;32m   1870\u001b[0m   params \u001b[38;5;241m=\u001b[39m params\u001b[38;5;241m.\u001b[39mcopy()\n\u001b[0;32m   1871\u001b[0m   \u001b[38;5;28;01mreturn\u001b[39;00m _prepare_and_run_export(\n\u001b[0;32m   1872\u001b[0m       request_id, params, _get_cloud_projects()\u001b[38;5;241m.\u001b[39mclassifier()\u001b[38;5;241m.\u001b[39mexport\n\u001b[0;32m   1873\u001b[0m   )\n",
      "File \u001b[1;32m~\\AppData\\Roaming\\Python\\Python38\\site-packages\\ee\\data.py:404\u001b[0m, in \u001b[0;36m_execute_cloud_call\u001b[1;34m(call, num_retries)\u001b[0m\n\u001b[0;32m    388\u001b[0m \u001b[38;5;28;01mdef\u001b[39;00m \u001b[38;5;21m_execute_cloud_call\u001b[39m(\n\u001b[0;32m    389\u001b[0m     call: googleapiclient\u001b[38;5;241m.\u001b[39mhttp\u001b[38;5;241m.\u001b[39mHttpRequest, num_retries: Optional[\u001b[38;5;28mint\u001b[39m] \u001b[38;5;241m=\u001b[39m \u001b[38;5;28;01mNone\u001b[39;00m\n\u001b[0;32m    390\u001b[0m ) \u001b[38;5;241m-\u001b[39m\u001b[38;5;241m>\u001b[39m Any:\n\u001b[0;32m    391\u001b[0m   \u001b[38;5;124;03m\"\"\"Executes a Cloud API call and translates errors to EEExceptions.\u001b[39;00m\n\u001b[0;32m    392\u001b[0m \n\u001b[0;32m    393\u001b[0m \u001b[38;5;124;03m  Args:\u001b[39;00m\n\u001b[1;32m   (...)\u001b[0m\n\u001b[0;32m    402\u001b[0m \u001b[38;5;124;03m    EEException if the call fails.\u001b[39;00m\n\u001b[0;32m    403\u001b[0m \u001b[38;5;124;03m  \"\"\"\u001b[39;00m\n\u001b[1;32m--> 404\u001b[0m   num_retries \u001b[38;5;241m=\u001b[39m _max_retries \u001b[38;5;28;01mif\u001b[39;00m num_retries \u001b[38;5;129;01mis\u001b[39;00m \u001b[38;5;28;01mNone\u001b[39;00m \u001b[38;5;28;01melse\u001b[39;00m num_retries\n\u001b[0;32m    405\u001b[0m   \u001b[38;5;28;01mtry\u001b[39;00m:\n\u001b[0;32m    406\u001b[0m     \u001b[38;5;28;01mreturn\u001b[39;00m call\u001b[38;5;241m.\u001b[39mexecute(num_retries\u001b[38;5;241m=\u001b[39mnum_retries)\n",
      "\u001b[1;31mEEException\u001b[0m: Request had insufficient authentication scopes."
     ]
    }
   ],
   "source": [
    "projection = vv_image.projection().getInfo()\n",
    "\n",
    "task = ee.batch.Export.image.toDrive(\n",
    "    image=vv_image.clip(polygon_roi),\n",
    "    description='image_export_crstransform',\n",
    "    folder='.',\n",
    "    region=polygon_roi,\n",
    "    crsTransform=projection[\"transform\"],\n",
    "    crs=projection['crs']\n",
    ")\n",
    "task.start()\n"
   ]
  },
  {
   "cell_type": "code",
   "execution_count": 32,
   "metadata": {},
   "outputs": [
    {
     "data": {
      "text/html": [
       "\n",
       "            <style>\n",
       "                .geemap-dark {\n",
       "                    --jp-widgets-color: white;\n",
       "                    --jp-widgets-label-color: white;\n",
       "                    --jp-ui-font-color1: white;\n",
       "                    --jp-layout-color2: #454545;\n",
       "                    background-color: #383838;\n",
       "                }\n",
       "\n",
       "                .geemap-dark .jupyter-button {\n",
       "                    --jp-layout-color3: #383838;\n",
       "                }\n",
       "\n",
       "                .geemap-colab {\n",
       "                    background-color: var(--colab-primary-surface-color, white);\n",
       "                }\n",
       "\n",
       "                .geemap-colab .jupyter-button {\n",
       "                    --jp-layout-color3: var(--colab-primary-surface-color, white);\n",
       "                }\n",
       "            </style>\n",
       "            "
      ],
      "text/plain": [
       "<IPython.core.display.HTML object>"
      ]
     },
     "metadata": {},
     "output_type": "display_data"
    },
    {
     "name": "stdout",
     "output_type": "stream",
     "text": [
      "Generating URL ...\n",
      "Downloading data from https://earthengine.googleapis.com/v1/projects/ee-sentinel-analysis/thumbnails/f6fe3906105984ac3365998176baa439-0c4666fd25e972e759e54aab13ecc583:getPixels\n",
      "Please wait ...\n",
      "Data downloaded to c:\\Users\\aymer\\Documents\\AERO5\\PMI\\PMI_detection_TillageLabour\\Datasets\\vv_image.tif\n",
      "Generating URL ...\n",
      "Downloading data from https://earthengine.googleapis.com/v1/projects/ee-sentinel-analysis/thumbnails/862c026e518e032b1109d78dc500358f-23a06b8e328b2fea14e94b25d4d0d7fd:getPixels\n",
      "Please wait ...\n",
      "Data downloaded to c:\\Users\\aymer\\Documents\\AERO5\\PMI\\PMI_detection_TillageLabour\\Datasets\\vh_image.tif\n"
     ]
    }
   ],
   "source": [
    "# Export VV and VH images as TIF\n",
    "vv_tif_path = 'vv_image.tif'\n",
    "vh_tif_path = 'vh_image.tif'\n",
    "\n",
    "# Export the images as GeoTIFF files.\n",
    "geemap.ee_export_image(vv_image.clip(polygon_roi), filename=vv_tif_path, scale=10, region=polygon_roi)\n",
    "geemap.ee_export_image(vh_image.clip(polygon_roi), filename=vh_tif_path, scale=10, region=polygon_roi)\n"
   ]
  },
  {
   "cell_type": "code",
   "execution_count": 60,
   "metadata": {},
   "outputs": [
    {
     "data": {
      "text/html": [
       "\n",
       "            <style>\n",
       "                .geemap-dark {\n",
       "                    --jp-widgets-color: white;\n",
       "                    --jp-widgets-label-color: white;\n",
       "                    --jp-ui-font-color1: white;\n",
       "                    --jp-layout-color2: #454545;\n",
       "                    background-color: #383838;\n",
       "                }\n",
       "\n",
       "                .geemap-dark .jupyter-button {\n",
       "                    --jp-layout-color3: #383838;\n",
       "                }\n",
       "\n",
       "                .geemap-colab {\n",
       "                    background-color: var(--colab-primary-surface-color, white);\n",
       "                }\n",
       "\n",
       "                .geemap-colab .jupyter-button {\n",
       "                    --jp-layout-color3: var(--colab-primary-surface-color, white);\n",
       "                }\n",
       "            </style>\n",
       "            "
      ],
      "text/plain": [
       "<IPython.core.display.HTML object>"
      ]
     },
     "metadata": {},
     "output_type": "display_data"
    },
    {
     "data": {
      "image/png": "[encoded data removed]",
      "text/plain": [
       "<Figure size 432x288 with 1 Axes>"
      ]
     },
     "metadata": {
      "needs_background": "light"
     },
     "output_type": "display_data"
    }
   ],
   "source": [
    "import cv2\n",
    "\n",
    "tif_path = \"vv_image.tif\"  # Remplacez par le chemin réel de votre fichier TIFF\n",
    "\n",
    "img = cv2.imread(tif_path , cv2.IMREAD_ANYDEPTH)\n",
    "\n",
    "# Afficher l'image\n",
    "plt.imshow(img)\n",
    "\n",
    "# Enregistrer l'image en PNG si nécessaire\n",
    "plt.savefig('output_image.png')"
   ]
  },
  {
   "cell_type": "code",
   "execution_count": 30,
   "metadata": {},
   "outputs": [
    {
     "data": {
      "text/html": [
       "\n",
       "            <style>\n",
       "                .geemap-dark {\n",
       "                    --jp-widgets-color: white;\n",
       "                    --jp-widgets-label-color: white;\n",
       "                    --jp-ui-font-color1: white;\n",
       "                    --jp-layout-color2: #454545;\n",
       "                    background-color: #383838;\n",
       "                }\n",
       "\n",
       "                .geemap-dark .jupyter-button {\n",
       "                    --jp-layout-color3: #383838;\n",
       "                }\n",
       "\n",
       "                .geemap-colab {\n",
       "                    background-color: var(--colab-primary-surface-color, white);\n",
       "                }\n",
       "\n",
       "                .geemap-colab .jupyter-button {\n",
       "                    --jp-layout-color3: var(--colab-primary-surface-color, white);\n",
       "                }\n",
       "            </style>\n",
       "            "
      ],
      "text/plain": [
       "<IPython.core.display.HTML object>"
      ]
     },
     "metadata": {},
     "output_type": "display_data"
    },
    {
     "ename": "EEException",
     "evalue": "Must specify visualization parameters to get floating-point data as PNG or JPEG.",
     "output_type": "error",
     "traceback": [
      "\u001b[1;31m---------------------------------------------------------------------------\u001b[0m",
      "\u001b[1;31mHttpError\u001b[0m                                 Traceback (most recent call last)",
      "File \u001b[1;32m~\\AppData\\Roaming\\Python\\Python38\\site-packages\\ee\\data.py:402\u001b[0m, in \u001b[0;36m_execute_cloud_call\u001b[1;34m(call, num_retries)\u001b[0m\n\u001b[0;32m    388\u001b[0m \u001b[38;5;28;01mdef\u001b[39;00m \u001b[38;5;21m_execute_cloud_call\u001b[39m(\n\u001b[0;32m    389\u001b[0m     call: googleapiclient\u001b[38;5;241m.\u001b[39mhttp\u001b[38;5;241m.\u001b[39mHttpRequest, num_retries: Optional[\u001b[38;5;28mint\u001b[39m] \u001b[38;5;241m=\u001b[39m \u001b[38;5;28;01mNone\u001b[39;00m\n\u001b[0;32m    390\u001b[0m ) \u001b[38;5;241m-\u001b[39m\u001b[38;5;241m>\u001b[39m Any:\n\u001b[0;32m    391\u001b[0m   \u001b[38;5;124;03m\"\"\"Executes a Cloud API call and translates errors to EEExceptions.\u001b[39;00m\n\u001b[0;32m    392\u001b[0m \n\u001b[0;32m    393\u001b[0m \u001b[38;5;124;03m  Args:\u001b[39;00m\n\u001b[0;32m    394\u001b[0m \u001b[38;5;124;03m    call: The Cloud API call, with all parameters set, ready to have execute()\u001b[39;00m\n\u001b[0;32m    395\u001b[0m \u001b[38;5;124;03m      called on it.\u001b[39;00m\n\u001b[0;32m    396\u001b[0m \u001b[38;5;124;03m    num_retries: How many times retryable failures should be retried.\u001b[39;00m\n\u001b[0;32m    397\u001b[0m \n\u001b[0;32m    398\u001b[0m \u001b[38;5;124;03m  Returns:\u001b[39;00m\n\u001b[0;32m    399\u001b[0m \u001b[38;5;124;03m    The value returned by executing that call.\u001b[39;00m\n\u001b[0;32m    400\u001b[0m \n\u001b[0;32m    401\u001b[0m \u001b[38;5;124;03m  Raises:\u001b[39;00m\n\u001b[1;32m--> 402\u001b[0m \u001b[38;5;124;03m    EEException if the call fails.\u001b[39;00m\n\u001b[0;32m    403\u001b[0m \u001b[38;5;124;03m  \"\"\"\u001b[39;00m\n\u001b[0;32m    404\u001b[0m   num_retries \u001b[38;5;241m=\u001b[39m _max_retries \u001b[38;5;28;01mif\u001b[39;00m num_retries \u001b[38;5;129;01mis\u001b[39;00m \u001b[38;5;28;01mNone\u001b[39;00m \u001b[38;5;28;01melse\u001b[39;00m num_retries\n",
      "File \u001b[1;32m~\\AppData\\Roaming\\Python\\Python38\\site-packages\\googleapiclient\\_helpers.py:130\u001b[0m, in \u001b[0;36mpositional.<locals>.positional_decorator.<locals>.positional_wrapper\u001b[1;34m(*args, **kwargs)\u001b[0m\n\u001b[0;32m    129\u001b[0m         logger\u001b[38;5;241m.\u001b[39mwarning(message)\n\u001b[1;32m--> 130\u001b[0m \u001b[38;5;28;01mreturn\u001b[39;00m \u001b[43mwrapped\u001b[49m\u001b[43m(\u001b[49m\u001b[38;5;241;43m*\u001b[39;49m\u001b[43margs\u001b[49m\u001b[43m,\u001b[49m\u001b[43m \u001b[49m\u001b[38;5;241;43m*\u001b[39;49m\u001b[38;5;241;43m*\u001b[39;49m\u001b[43mkwargs\u001b[49m\u001b[43m)\u001b[49m\n",
      "File \u001b[1;32m~\\AppData\\Roaming\\Python\\Python38\\site-packages\\googleapiclient\\http.py:938\u001b[0m, in \u001b[0;36mHttpRequest.execute\u001b[1;34m(self, http, num_retries)\u001b[0m\n\u001b[0;32m    937\u001b[0m \u001b[38;5;28;01mif\u001b[39;00m resp\u001b[38;5;241m.\u001b[39mstatus \u001b[38;5;241m>\u001b[39m\u001b[38;5;241m=\u001b[39m \u001b[38;5;241m300\u001b[39m:\n\u001b[1;32m--> 938\u001b[0m     \u001b[38;5;28;01mraise\u001b[39;00m HttpError(resp, content, uri\u001b[38;5;241m=\u001b[39m\u001b[38;5;28mself\u001b[39m\u001b[38;5;241m.\u001b[39muri)\n\u001b[0;32m    939\u001b[0m \u001b[38;5;28;01mreturn\u001b[39;00m \u001b[38;5;28mself\u001b[39m\u001b[38;5;241m.\u001b[39mpostproc(resp, content)\n",
      "\u001b[1;31mHttpError\u001b[0m: <HttpError 400 when requesting https://earthengine.googleapis.com/v1/projects/ee-sentinel-analysis/thumbnails?fields=name&alt=json returned \"Must specify visualization parameters to get floating-point data as PNG or JPEG.\". Details: \"Must specify visualization parameters to get floating-point data as PNG or JPEG.\">",
      "\nDuring handling of the above exception, another exception occurred:\n",
      "\u001b[1;31mEEException\u001b[0m                               Traceback (most recent call last)",
      "Input \u001b[1;32mIn [30]\u001b[0m, in \u001b[0;36m<cell line: 3>\u001b[1;34m()\u001b[0m\n\u001b[0;32m      1\u001b[0m \u001b[38;5;28;01mimport\u001b[39;00m \u001b[38;5;21;01mrequests\u001b[39;00m\n\u001b[1;32m----> 3\u001b[0m url \u001b[38;5;241m=\u001b[39m \u001b[43mvv_image\u001b[49m\u001b[38;5;241;43m.\u001b[39;49m\u001b[43mgetDownloadUrl\u001b[49m\u001b[43m(\u001b[49m\u001b[43m{\u001b[49m\n\u001b[0;32m      4\u001b[0m \u001b[43m    \u001b[49m\u001b[38;5;124;43m'\u001b[39;49m\u001b[38;5;124;43mbands\u001b[39;49m\u001b[38;5;124;43m'\u001b[39;49m\u001b[43m \u001b[49m\u001b[43m:\u001b[49m\u001b[43m \u001b[49m\u001b[43m[\u001b[49m\u001b[38;5;124;43m\"\u001b[39;49m\u001b[38;5;124;43mVV\u001b[39;49m\u001b[38;5;124;43m\"\u001b[39;49m\u001b[43m]\u001b[49m\u001b[43m,\u001b[49m\n\u001b[0;32m      5\u001b[0m \u001b[43m    \u001b[49m\u001b[38;5;124;43m'\u001b[39;49m\u001b[38;5;124;43mregion\u001b[39;49m\u001b[38;5;124;43m'\u001b[39;49m\u001b[43m:\u001b[49m\u001b[43m \u001b[49m\u001b[43mpolygon_roi\u001b[49m\u001b[43m,\u001b[49m\n\u001b[0;32m      6\u001b[0m \u001b[43m    \u001b[49m\u001b[38;5;124;43m'\u001b[39;49m\u001b[38;5;124;43mscale\u001b[39;49m\u001b[38;5;124;43m'\u001b[39;49m\u001b[43m \u001b[49m\u001b[43m:\u001b[49m\u001b[43m \u001b[49m\u001b[38;5;241;43m20\u001b[39;49m\u001b[43m,\u001b[49m\n\u001b[0;32m      7\u001b[0m \u001b[43m    \u001b[49m\u001b[38;5;124;43m'\u001b[39;49m\u001b[38;5;124;43mformat\u001b[39;49m\u001b[38;5;124;43m'\u001b[39;49m\u001b[43m:\u001b[49m\u001b[43m \u001b[49m\u001b[38;5;124;43m\"\u001b[39;49m\u001b[38;5;124;43mPNG\u001b[39;49m\u001b[38;5;124;43m\"\u001b[39;49m\n\u001b[0;32m      8\u001b[0m \u001b[43m}\u001b[49m\u001b[43m)\u001b[49m\n",
      "File \u001b[1;32m~\\AppData\\Roaming\\Python\\Python38\\site-packages\\ee\\deprecation.py:29\u001b[0m, in \u001b[0;36mWrapper\u001b[1;34m(*args, **kwargs)\u001b[0m\n\u001b[0;32m     24\u001b[0m \u001b[38;5;28;01mdef\u001b[39;00m \u001b[38;5;21mDecorator\u001b[39m(func):\n\u001b[0;32m     25\u001b[0m   \u001b[38;5;124;03m\"\"\"Emits a deprecation warning when the decorated function is called.\u001b[39;00m\n\u001b[0;32m     26\u001b[0m \n\u001b[0;32m     27\u001b[0m \u001b[38;5;124;03m  Also adds the deprecation message to the function's docstring.\u001b[39;00m\n\u001b[0;32m     28\u001b[0m \n\u001b[1;32m---> 29\u001b[0m \u001b[38;5;124;03m  Args:\u001b[39;00m\n\u001b[0;32m     30\u001b[0m \u001b[38;5;124;03m    func: The function to deprecate.\u001b[39;00m\n\u001b[0;32m     31\u001b[0m \n\u001b[0;32m     32\u001b[0m \u001b[38;5;124;03m  Returns:\u001b[39;00m\n\u001b[0;32m     33\u001b[0m \u001b[38;5;124;03m    func: The wrapped function.\u001b[39;00m\n\u001b[0;32m     34\u001b[0m \u001b[38;5;124;03m  \"\"\"\u001b[39;00m\n\u001b[0;32m     36\u001b[0m   \u001b[38;5;129m@functools\u001b[39m\u001b[38;5;241m.\u001b[39mwraps(func)\n\u001b[0;32m     37\u001b[0m   \u001b[38;5;28;01mdef\u001b[39;00m \u001b[38;5;21mWrapper\u001b[39m(\u001b[38;5;241m*\u001b[39margs, \u001b[38;5;241m*\u001b[39m\u001b[38;5;241m*\u001b[39mkwargs):\n\u001b[0;32m     38\u001b[0m     warnings\u001b[38;5;241m.\u001b[39mwarn_explicit(\n\u001b[0;32m     39\u001b[0m         \u001b[38;5;124m'\u001b[39m\u001b[38;5;132;01m%s\u001b[39;00m\u001b[38;5;124m() is deprecated: \u001b[39m\u001b[38;5;132;01m%s\u001b[39;00m\u001b[38;5;124m'\u001b[39m \u001b[38;5;241m%\u001b[39m (func\u001b[38;5;241m.\u001b[39m\u001b[38;5;18m__name__\u001b[39m, message),\n\u001b[0;32m     40\u001b[0m         category\u001b[38;5;241m=\u001b[39m\u001b[38;5;167;01mDeprecationWarning\u001b[39;00m,\n\u001b[0;32m     41\u001b[0m         filename\u001b[38;5;241m=\u001b[39mfunc\u001b[38;5;241m.\u001b[39m\u001b[38;5;18m__code__\u001b[39m\u001b[38;5;241m.\u001b[39mco_filename,\n\u001b[0;32m     42\u001b[0m         lineno\u001b[38;5;241m=\u001b[39mfunc\u001b[38;5;241m.\u001b[39m\u001b[38;5;18m__code__\u001b[39m\u001b[38;5;241m.\u001b[39mco_firstlineno \u001b[38;5;241m+\u001b[39m \u001b[38;5;241m1\u001b[39m,\n\u001b[0;32m     43\u001b[0m     )\n",
      "File \u001b[1;32m~\\AppData\\Roaming\\Python\\Python38\\site-packages\\ee\\image.py:478\u001b[0m, in \u001b[0;36mgetDownloadURL\u001b[1;34m(self, params)\u001b[0m\n\u001b[0;32m    452\u001b[0m \u001b[38;5;28;01mdef\u001b[39;00m \u001b[38;5;21mgetDownloadURL\u001b[39m(\u001b[38;5;28mself\u001b[39m, params: Optional[Dict[\u001b[38;5;28mstr\u001b[39m, Any]] \u001b[38;5;241m=\u001b[39m \u001b[38;5;28;01mNone\u001b[39;00m) \u001b[38;5;241m-\u001b[39m\u001b[38;5;241m>\u001b[39m \u001b[38;5;28mstr\u001b[39m:\n\u001b[0;32m    453\u001b[0m   \u001b[38;5;124;03m\"\"\"Get a download URL for an image chunk.\u001b[39;00m\n\u001b[0;32m    454\u001b[0m \n\u001b[0;32m    455\u001b[0m \u001b[38;5;124;03m  Generates a download URL for small chunks of image data in GeoTIFF or NumPy\u001b[39;00m\n\u001b[0;32m    456\u001b[0m \u001b[38;5;124;03m  format. Maximum request size is 32 MB, maximum grid dimension is 10000.\u001b[39;00m\n\u001b[0;32m    457\u001b[0m \n\u001b[0;32m    458\u001b[0m \u001b[38;5;124;03m  Use getThumbURL for RGB visualization formats PNG and JPG.\u001b[39;00m\n\u001b[0;32m    459\u001b[0m \n\u001b[0;32m    460\u001b[0m \u001b[38;5;124;03m  Args:\u001b[39;00m\n\u001b[0;32m    461\u001b[0m \u001b[38;5;124;03m    params: An object containing download options with the following\u001b[39;00m\n\u001b[0;32m    462\u001b[0m \u001b[38;5;124;03m        possible values:\u001b[39;00m\n\u001b[0;32m    463\u001b[0m \u001b[38;5;124;03m      - name: a base name to use when constructing filenames. Only applicable\u001b[39;00m\n\u001b[0;32m    464\u001b[0m \u001b[38;5;124;03m          when format is \"ZIPPED_GEO_TIFF\" (default),\u001b[39;00m\n\u001b[0;32m    465\u001b[0m \u001b[38;5;124;03m          \"ZIPPED_GEO_TIFF_PER_BAND\" or filePerBand is true. Defaults to the\u001b[39;00m\n\u001b[0;32m    466\u001b[0m \u001b[38;5;124;03m          image id (or \"download\" for computed images) when format is\u001b[39;00m\n\u001b[0;32m    467\u001b[0m \u001b[38;5;124;03m          \"ZIPPED_GEO_TIFF\", \"ZIPPED_GEO_TIFF_PER_BAND\", or filePerBand is\u001b[39;00m\n\u001b[0;32m    468\u001b[0m \u001b[38;5;124;03m          true, otherwise a random character string is generated. Band names\u001b[39;00m\n\u001b[0;32m    469\u001b[0m \u001b[38;5;124;03m          are appended when filePerBand is true.\u001b[39;00m\n\u001b[0;32m    470\u001b[0m \u001b[38;5;124;03m      - bands: a description of the bands to download. Must be an array of\u001b[39;00m\n\u001b[0;32m    471\u001b[0m \u001b[38;5;124;03m          band names or an array of dictionaries, each with the\u001b[39;00m\n\u001b[0;32m    472\u001b[0m \u001b[38;5;124;03m          following keys:\u001b[39;00m\n\u001b[0;32m    473\u001b[0m \u001b[38;5;124;03m        + id: the name of the band, a string, required.\u001b[39;00m\n\u001b[0;32m    474\u001b[0m \u001b[38;5;124;03m        + crs: an optional CRS string defining the band projection.\u001b[39;00m\n\u001b[0;32m    475\u001b[0m \u001b[38;5;124;03m        + crs_transform: an optional array of 6 numbers specifying an affine\u001b[39;00m\n\u001b[0;32m    476\u001b[0m \u001b[38;5;124;03m            transform from the specified CRS, in the order:\u001b[39;00m\n\u001b[0;32m    477\u001b[0m \u001b[38;5;124;03m            [xScale, yShearing, xShearing, yScale, xTranslation, yTranslation]\u001b[39;00m\n\u001b[1;32m--> 478\u001b[0m \u001b[38;5;124;03m        + dimensions: an optional array of two integers defining the width and\u001b[39;00m\n\u001b[0;32m    479\u001b[0m \u001b[38;5;124;03m            height to which the band is cropped.\u001b[39;00m\n\u001b[0;32m    480\u001b[0m \u001b[38;5;124;03m        + scale: an optional number, specifying the scale in meters of the\u001b[39;00m\n\u001b[0;32m    481\u001b[0m \u001b[38;5;124;03m               band; ignored if crs and crs_transform are specified.\u001b[39;00m\n\u001b[0;32m    482\u001b[0m \u001b[38;5;124;03m      - crs: a default CRS string to use for any bands that do not explicitly\u001b[39;00m\n\u001b[0;32m    483\u001b[0m \u001b[38;5;124;03m          specify one.\u001b[39;00m\n\u001b[0;32m    484\u001b[0m \u001b[38;5;124;03m      - crs_transform: a default affine transform to use for any bands that do\u001b[39;00m\n\u001b[0;32m    485\u001b[0m \u001b[38;5;124;03m          not specify one, of the same format as the crs_transform of bands.\u001b[39;00m\n\u001b[0;32m    486\u001b[0m \u001b[38;5;124;03m      - dimensions: default image cropping dimensions to use for any bands\u001b[39;00m\n\u001b[0;32m    487\u001b[0m \u001b[38;5;124;03m          that do not specify them.\u001b[39;00m\n\u001b[0;32m    488\u001b[0m \u001b[38;5;124;03m      - scale: a default scale to use for any bands that do not specify one;\u001b[39;00m\n\u001b[0;32m    489\u001b[0m \u001b[38;5;124;03m          ignored if crs and crs_transform is specified.\u001b[39;00m\n\u001b[0;32m    490\u001b[0m \u001b[38;5;124;03m      - region: a polygon specifying a region to download; ignored if crs\u001b[39;00m\n\u001b[0;32m    491\u001b[0m \u001b[38;5;124;03m          and crs_transform are specified.\u001b[39;00m\n\u001b[0;32m    492\u001b[0m \u001b[38;5;124;03m      - filePerBand: whether to produce a separate GeoTIFF per band (boolean).\u001b[39;00m\n\u001b[0;32m    493\u001b[0m \u001b[38;5;124;03m          Defaults to true. If false, a single GeoTIFF is produced and all\u001b[39;00m\n\u001b[0;32m    494\u001b[0m \u001b[38;5;124;03m          band-level transformations will be ignored. Note that this is\u001b[39;00m\n\u001b[0;32m    495\u001b[0m \u001b[38;5;124;03m          ignored if the format is \"ZIPPED_GEO_TIFF\" or\u001b[39;00m\n\u001b[0;32m    496\u001b[0m \u001b[38;5;124;03m          \"ZIPPED_GEO_TIFF_PER_BAND\".\u001b[39;00m\n\u001b[0;32m    497\u001b[0m \u001b[38;5;124;03m      - format: the download format. One of:\u001b[39;00m\n\u001b[0;32m    498\u001b[0m \u001b[38;5;124;03m          \"ZIPPED_GEO_TIFF\" (GeoTIFF file wrapped in a zip file, default),\u001b[39;00m\n\u001b[0;32m    499\u001b[0m \u001b[38;5;124;03m          \"ZIPPED_GEO_TIFF_PER_BAND\"  (Multiple GeoTIFF files wrapped in a\u001b[39;00m\n\u001b[0;32m    500\u001b[0m \u001b[38;5;124;03m          zip file), \"GEO_TIFF\" (GeoTIFF file), \"NPY\" (NumPy binary format).\u001b[39;00m\n\u001b[0;32m    501\u001b[0m \u001b[38;5;124;03m          If \"GEO_TIFF\" or \"NPY\", filePerBand and all band-level\u001b[39;00m\n\u001b[0;32m    502\u001b[0m \u001b[38;5;124;03m          transformations will be ignored. Loading a NumPy output results in\u001b[39;00m\n\u001b[0;32m    503\u001b[0m \u001b[38;5;124;03m          a structured array.\u001b[39;00m\n\u001b[0;32m    504\u001b[0m \n\u001b[0;32m    505\u001b[0m \u001b[38;5;124;03m  Returns:\u001b[39;00m\n\u001b[0;32m    506\u001b[0m \u001b[38;5;124;03m    A URL to download for the specified image chunk.\u001b[39;00m\n\u001b[0;32m    507\u001b[0m \u001b[38;5;124;03m  \"\"\"\u001b[39;00m\n\u001b[0;32m    508\u001b[0m   request \u001b[38;5;241m=\u001b[39m params \u001b[38;5;129;01mor\u001b[39;00m {}\n\u001b[0;32m    509\u001b[0m   request[\u001b[38;5;124m'\u001b[39m\u001b[38;5;124mimage\u001b[39m\u001b[38;5;124m'\u001b[39m] \u001b[38;5;241m=\u001b[39m \u001b[38;5;28mself\u001b[39m\n",
      "File \u001b[1;32m~\\AppData\\Roaming\\Python\\Python38\\site-packages\\ee\\data.py:1349\u001b[0m, in \u001b[0;36mgetDownloadId\u001b[1;34m(params)\u001b[0m\n\u001b[0;32m   1347\u001b[0m \u001b[38;5;28;01mif\u001b[39;00m \u001b[38;5;124m'\u001b[39m\u001b[38;5;124mbands\u001b[39m\u001b[38;5;124m'\u001b[39m \u001b[38;5;129;01min\u001b[39;00m params:\n\u001b[0;32m   1348\u001b[0m   bands \u001b[38;5;241m=\u001b[39m params[\u001b[38;5;124m'\u001b[39m\u001b[38;5;124mbands\u001b[39m\u001b[38;5;124m'\u001b[39m]\n\u001b[1;32m-> 1349\u001b[0m   \u001b[38;5;28;01mif\u001b[39;00m \u001b[38;5;28misinstance\u001b[39m(bands, \u001b[38;5;28mstr\u001b[39m):\n\u001b[0;32m   1350\u001b[0m     bands \u001b[38;5;241m=\u001b[39m _cloud_api_utils\u001b[38;5;241m.\u001b[39mconvert_to_band_list(bands)\n\u001b[0;32m   1351\u001b[0m   \u001b[38;5;28;01mif\u001b[39;00m \u001b[38;5;129;01mnot\u001b[39;00m \u001b[38;5;28misinstance\u001b[39m(bands, \u001b[38;5;28mlist\u001b[39m):\n",
      "File \u001b[1;32m~\\AppData\\Roaming\\Python\\Python38\\site-packages\\ee\\data.py:404\u001b[0m, in \u001b[0;36m_execute_cloud_call\u001b[1;34m(call, num_retries)\u001b[0m\n\u001b[0;32m    388\u001b[0m \u001b[38;5;28;01mdef\u001b[39;00m \u001b[38;5;21m_execute_cloud_call\u001b[39m(\n\u001b[0;32m    389\u001b[0m     call: googleapiclient\u001b[38;5;241m.\u001b[39mhttp\u001b[38;5;241m.\u001b[39mHttpRequest, num_retries: Optional[\u001b[38;5;28mint\u001b[39m] \u001b[38;5;241m=\u001b[39m \u001b[38;5;28;01mNone\u001b[39;00m\n\u001b[0;32m    390\u001b[0m ) \u001b[38;5;241m-\u001b[39m\u001b[38;5;241m>\u001b[39m Any:\n\u001b[0;32m    391\u001b[0m   \u001b[38;5;124;03m\"\"\"Executes a Cloud API call and translates errors to EEExceptions.\u001b[39;00m\n\u001b[0;32m    392\u001b[0m \n\u001b[0;32m    393\u001b[0m \u001b[38;5;124;03m  Args:\u001b[39;00m\n\u001b[1;32m   (...)\u001b[0m\n\u001b[0;32m    402\u001b[0m \u001b[38;5;124;03m    EEException if the call fails.\u001b[39;00m\n\u001b[0;32m    403\u001b[0m \u001b[38;5;124;03m  \"\"\"\u001b[39;00m\n\u001b[1;32m--> 404\u001b[0m   num_retries \u001b[38;5;241m=\u001b[39m _max_retries \u001b[38;5;28;01mif\u001b[39;00m num_retries \u001b[38;5;129;01mis\u001b[39;00m \u001b[38;5;28;01mNone\u001b[39;00m \u001b[38;5;28;01melse\u001b[39;00m num_retries\n\u001b[0;32m    405\u001b[0m   \u001b[38;5;28;01mtry\u001b[39;00m:\n\u001b[0;32m    406\u001b[0m     \u001b[38;5;28;01mreturn\u001b[39;00m call\u001b[38;5;241m.\u001b[39mexecute(num_retries\u001b[38;5;241m=\u001b[39mnum_retries)\n",
      "\u001b[1;31mEEException\u001b[0m: Must specify visualization parameters to get floating-point data as PNG or JPEG."
     ]
    }
   ],
   "source": [
    "import requests\n",
    "\n",
    "url = vv_image.getDownloadUrl({\n",
    "    'bands' : [\"VV\"],\n",
    "    'region': polygon_roi,\n",
    "    'scale' : 20,\n",
    "    'format': \"PNG\"\n",
    "})"
   ]
  },
  {
   "cell_type": "code",
   "execution_count": 74,
   "metadata": {},
   "outputs": [
    {
     "data": {
      "text/html": [
       "\n",
       "            <style>\n",
       "                .geemap-dark {\n",
       "                    --jp-widgets-color: white;\n",
       "                    --jp-widgets-label-color: white;\n",
       "                    --jp-ui-font-color1: white;\n",
       "                    --jp-layout-color2: #454545;\n",
       "                    background-color: #383838;\n",
       "                }\n",
       "\n",
       "                .geemap-dark .jupyter-button {\n",
       "                    --jp-layout-color3: #383838;\n",
       "                }\n",
       "\n",
       "                .geemap-colab {\n",
       "                    background-color: var(--colab-primary-surface-color, white);\n",
       "                }\n",
       "\n",
       "                .geemap-colab .jupyter-button {\n",
       "                    --jp-layout-color3: var(--colab-primary-surface-color, white);\n",
       "                }\n",
       "            </style>\n",
       "            "
      ],
      "text/plain": [
       "<IPython.core.display.HTML object>"
      ]
     },
     "metadata": {},
     "output_type": "display_data"
    },
    {
     "data": {
      "text/plain": [
       "array([[[-8.79026003]]])"
      ]
     },
     "execution_count": 74,
     "metadata": {},
     "output_type": "execute_result"
    }
   ],
   "source": [
    "geemap.ee_to_numpy(vv_image, region=polygon_roi)"
   ]
  },
  {
   "cell_type": "code",
   "execution_count": null,
   "metadata": {},
   "outputs": [],
   "source": []
  }
 ],
 "metadata": {
  "kernelspec": {
   "display_name": "Python 3",
   "language": "python",
   "name": "python3"
  },
  "language_info": {
   "codemirror_mode": {
    "name": "ipython",
    "version": 3
   },
   "file_extension": ".py",
   "mimetype": "text/x-python",
   "name": "python",
   "nbconvert_exporter": "python",
   "pygments_lexer": "ipython3",
   "version": "3.8.0"
  }
 },
 "nbformat": 4,
 "nbformat_minor": 2
}
